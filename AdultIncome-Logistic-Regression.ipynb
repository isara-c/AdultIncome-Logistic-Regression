{
  "nbformat": 4,
  "nbformat_minor": 0,
  "metadata": {
    "accelerator": "TPU",
    "colab": {
      "name": "week7_6030831821_HW_AdultIncome_ToStudent.ipynb",
      "provenance": [],
      "collapsed_sections": [
        "V3diDoxnewRZ",
        "u9zT5Zt5RoWz",
        "rYibvshtvrrh",
        "0de85EJ4nibt",
        "4F0lFxAgkjnA",
        "Ba1eMpLjmdun",
        "4AH05moYpAFV",
        "_-cRSoJjpfhO",
        "aAAPXBEmvZQT",
        "gEX8jP-S_P7r",
        "652Gd925zIM_",
        "doXqS_d9-_SY",
        "2YQTw5Knx9_q",
        "NXAWOsTsEJBP"
      ],
      "toc_visible": true
    },
    "kernelspec": {
      "display_name": "Python 3",
      "language": "python",
      "name": "python3"
    },
    "language_info": {
      "codemirror_mode": {
        "name": "ipython",
        "version": 3
      },
      "file_extension": ".py",
      "mimetype": "text/x-python",
      "name": "python",
      "nbconvert_exporter": "python",
      "pygments_lexer": "ipython3",
      "version": "3.6.6"
    }
  },
  "cells": [
    {
      "cell_type": "markdown",
      "metadata": {
        "id": "V3diDoxnewRZ"
      },
      "source": [
        "# Import libralies"
      ]
    },
    {
      "cell_type": "code",
      "metadata": {
        "id": "9Cdjta-Gevmz"
      },
      "source": [
        "import numpy as np\n",
        "import math\n",
        "\n",
        "import pandas as pd\n",
        "\n",
        "import matplotlib.pyplot as plt\n",
        "%matplotlib inline\n",
        "import seaborn as sns\n",
        "\n",
        "\n",
        "from sklearn.preprocessing import LabelEncoder\n",
        "from sklearn.linear_model import LogisticRegression\n",
        "from sklearn.pipeline import make_pipeline\n",
        "from mlxtend.feature_selection import SequentialFeatureSelector as SFS\n",
        "from sklearn.model_selection import train_test_split\n",
        "from sklearn.metrics import confusion_matrix\n",
        "from sklearn.metrics import classification_report"
      ],
      "execution_count": null,
      "outputs": []
    },
    {
      "cell_type": "markdown",
      "metadata": {
        "id": "u9zT5Zt5RoWz"
      },
      "source": [
        "# Age Vs Salary Classification either obove 50k or less 50k through logistic regression classification\n",
        "\n",
        "Reference of data set: https://www.kaggle.com/wenruliu/adult-income-dataset\n",
        "\n",
        "![](https://miro.medium.com/max/668/0*g0SY0MVS41m_Yma_.png)"
      ]
    },
    {
      "cell_type": "code",
      "metadata": {
        "colab": {
          "base_uri": "https://localhost:8080/"
        },
        "id": "65zwwv9ARQ_Y",
        "outputId": "6609cf18-f2ed-437b-ea08-4084103c2ee5"
      },
      "source": [
        "df = pd.read_csv(r'https://github.com/kaopanboonyuen/Python-Data-Science/raw/master/Dataset/adult_data/adult.csv')\n",
        "df.head()"
      ],
      "execution_count": null,
      "outputs": [
        {
          "output_type": "execute_result",
          "data": {
            "text/html": [
              "<div>\n",
              "<style scoped>\n",
              "    .dataframe tbody tr th:only-of-type {\n",
              "        vertical-align: middle;\n",
              "    }\n",
              "\n",
              "    .dataframe tbody tr th {\n",
              "        vertical-align: top;\n",
              "    }\n",
              "\n",
              "    .dataframe thead th {\n",
              "        text-align: right;\n",
              "    }\n",
              "</style>\n",
              "<table border=\"1\" class=\"dataframe\">\n",
              "  <thead>\n",
              "    <tr style=\"text-align: right;\">\n",
              "      <th></th>\n",
              "      <th>age</th>\n",
              "      <th>workclass</th>\n",
              "      <th>fnlwgt</th>\n",
              "      <th>education</th>\n",
              "      <th>educational-num</th>\n",
              "      <th>marital-status</th>\n",
              "      <th>occupation</th>\n",
              "      <th>relationship</th>\n",
              "      <th>race</th>\n",
              "      <th>gender</th>\n",
              "      <th>capital-gain</th>\n",
              "      <th>capital-loss</th>\n",
              "      <th>hours-per-week</th>\n",
              "      <th>native-country</th>\n",
              "      <th>income</th>\n",
              "    </tr>\n",
              "  </thead>\n",
              "  <tbody>\n",
              "    <tr>\n",
              "      <th>0</th>\n",
              "      <td>25</td>\n",
              "      <td>Private</td>\n",
              "      <td>226802</td>\n",
              "      <td>11th</td>\n",
              "      <td>7</td>\n",
              "      <td>Never-married</td>\n",
              "      <td>Machine-op-inspct</td>\n",
              "      <td>Own-child</td>\n",
              "      <td>Black</td>\n",
              "      <td>Male</td>\n",
              "      <td>0</td>\n",
              "      <td>0</td>\n",
              "      <td>40</td>\n",
              "      <td>United-States</td>\n",
              "      <td>&lt;=50K</td>\n",
              "    </tr>\n",
              "    <tr>\n",
              "      <th>1</th>\n",
              "      <td>38</td>\n",
              "      <td>Private</td>\n",
              "      <td>89814</td>\n",
              "      <td>HS-grad</td>\n",
              "      <td>9</td>\n",
              "      <td>Married-civ-spouse</td>\n",
              "      <td>Farming-fishing</td>\n",
              "      <td>Husband</td>\n",
              "      <td>White</td>\n",
              "      <td>Male</td>\n",
              "      <td>0</td>\n",
              "      <td>0</td>\n",
              "      <td>50</td>\n",
              "      <td>United-States</td>\n",
              "      <td>&lt;=50K</td>\n",
              "    </tr>\n",
              "    <tr>\n",
              "      <th>2</th>\n",
              "      <td>28</td>\n",
              "      <td>Local-gov</td>\n",
              "      <td>336951</td>\n",
              "      <td>Assoc-acdm</td>\n",
              "      <td>12</td>\n",
              "      <td>Married-civ-spouse</td>\n",
              "      <td>Protective-serv</td>\n",
              "      <td>Husband</td>\n",
              "      <td>White</td>\n",
              "      <td>Male</td>\n",
              "      <td>0</td>\n",
              "      <td>0</td>\n",
              "      <td>40</td>\n",
              "      <td>United-States</td>\n",
              "      <td>&gt;50K</td>\n",
              "    </tr>\n",
              "    <tr>\n",
              "      <th>3</th>\n",
              "      <td>44</td>\n",
              "      <td>Private</td>\n",
              "      <td>160323</td>\n",
              "      <td>Some-college</td>\n",
              "      <td>10</td>\n",
              "      <td>Married-civ-spouse</td>\n",
              "      <td>Machine-op-inspct</td>\n",
              "      <td>Husband</td>\n",
              "      <td>Black</td>\n",
              "      <td>Male</td>\n",
              "      <td>7688</td>\n",
              "      <td>0</td>\n",
              "      <td>40</td>\n",
              "      <td>United-States</td>\n",
              "      <td>&gt;50K</td>\n",
              "    </tr>\n",
              "    <tr>\n",
              "      <th>4</th>\n",
              "      <td>18</td>\n",
              "      <td>?</td>\n",
              "      <td>103497</td>\n",
              "      <td>Some-college</td>\n",
              "      <td>10</td>\n",
              "      <td>Never-married</td>\n",
              "      <td>?</td>\n",
              "      <td>Own-child</td>\n",
              "      <td>White</td>\n",
              "      <td>Female</td>\n",
              "      <td>0</td>\n",
              "      <td>0</td>\n",
              "      <td>30</td>\n",
              "      <td>United-States</td>\n",
              "      <td>&lt;=50K</td>\n",
              "    </tr>\n",
              "  </tbody>\n",
              "</table>\n",
              "</div>"
            ],
            "text/plain": [
              "   age  workclass  fnlwgt  ... hours-per-week  native-country income\n",
              "0   25    Private  226802  ...             40   United-States  <=50K\n",
              "1   38    Private   89814  ...             50   United-States  <=50K\n",
              "2   28  Local-gov  336951  ...             40   United-States   >50K\n",
              "3   44    Private  160323  ...             40   United-States   >50K\n",
              "4   18          ?  103497  ...             30   United-States  <=50K\n",
              "\n",
              "[5 rows x 15 columns]"
            ]
          },
          "metadata": {
            "tags": []
          },
          "execution_count": 325
        }
      ]
    },
    {
      "cell_type": "code",
      "metadata": {
        "id": "RwAW-eXJIEdi"
      },
      "source": [
        "list_feature_cate = ['workclass', 'education',  'marital-status', 'occupation', 'relationship', 'race', 'gender', 'native-country']\n",
        "list_feature_num = ['age',\t'fnlwgt',\t'educational-num',\t'capital-gain',\t'capital-loss',\t'hours-per-week']"
      ],
      "execution_count": null,
      "outputs": []
    },
    {
      "cell_type": "markdown",
      "metadata": {
        "id": "rYibvshtvrrh"
      },
      "source": [
        "# Pre-processing"
      ]
    },
    {
      "cell_type": "markdown",
      "metadata": {
        "id": "axyrblIvgLUl"
      },
      "source": [
        "Cleansing data"
      ]
    },
    {
      "cell_type": "code",
      "metadata": {
        "colab": {
          "base_uri": "https://localhost:8080/",
          "height": 1000
        },
        "id": "GbqTOT33hhTX",
        "outputId": "f91e83e6-d2ff-4cc4-b965-be51be46a4da"
      },
      "source": [
        "df[df.duplicated()]"
      ],
      "execution_count": null,
      "outputs": [
        {
          "output_type": "execute_result",
          "data": {
            "text/html": [
              "<div>\n",
              "<style scoped>\n",
              "    .dataframe tbody tr th:only-of-type {\n",
              "        vertical-align: middle;\n",
              "    }\n",
              "\n",
              "    .dataframe tbody tr th {\n",
              "        vertical-align: top;\n",
              "    }\n",
              "\n",
              "    .dataframe thead th {\n",
              "        text-align: right;\n",
              "    }\n",
              "</style>\n",
              "<table border=\"1\" class=\"dataframe\">\n",
              "  <thead>\n",
              "    <tr style=\"text-align: right;\">\n",
              "      <th></th>\n",
              "      <th>age</th>\n",
              "      <th>workclass</th>\n",
              "      <th>fnlwgt</th>\n",
              "      <th>education</th>\n",
              "      <th>educational-num</th>\n",
              "      <th>marital-status</th>\n",
              "      <th>occupation</th>\n",
              "      <th>relationship</th>\n",
              "      <th>race</th>\n",
              "      <th>gender</th>\n",
              "      <th>capital-gain</th>\n",
              "      <th>capital-loss</th>\n",
              "      <th>hours-per-week</th>\n",
              "      <th>native-country</th>\n",
              "      <th>income</th>\n",
              "    </tr>\n",
              "  </thead>\n",
              "  <tbody>\n",
              "    <tr>\n",
              "      <th>864</th>\n",
              "      <td>24</td>\n",
              "      <td>Private</td>\n",
              "      <td>194630</td>\n",
              "      <td>Bachelors</td>\n",
              "      <td>13</td>\n",
              "      <td>Never-married</td>\n",
              "      <td>Prof-specialty</td>\n",
              "      <td>Not-in-family</td>\n",
              "      <td>White</td>\n",
              "      <td>Male</td>\n",
              "      <td>0</td>\n",
              "      <td>0</td>\n",
              "      <td>35</td>\n",
              "      <td>United-States</td>\n",
              "      <td>&lt;=50K</td>\n",
              "    </tr>\n",
              "    <tr>\n",
              "      <th>11189</th>\n",
              "      <td>37</td>\n",
              "      <td>Private</td>\n",
              "      <td>52870</td>\n",
              "      <td>Bachelors</td>\n",
              "      <td>13</td>\n",
              "      <td>Married-civ-spouse</td>\n",
              "      <td>Exec-managerial</td>\n",
              "      <td>Husband</td>\n",
              "      <td>White</td>\n",
              "      <td>Male</td>\n",
              "      <td>0</td>\n",
              "      <td>0</td>\n",
              "      <td>40</td>\n",
              "      <td>United-States</td>\n",
              "      <td>&lt;=50K</td>\n",
              "    </tr>\n",
              "    <tr>\n",
              "      <th>11212</th>\n",
              "      <td>29</td>\n",
              "      <td>Private</td>\n",
              "      <td>36440</td>\n",
              "      <td>Bachelors</td>\n",
              "      <td>13</td>\n",
              "      <td>Never-married</td>\n",
              "      <td>Adm-clerical</td>\n",
              "      <td>Not-in-family</td>\n",
              "      <td>White</td>\n",
              "      <td>Female</td>\n",
              "      <td>0</td>\n",
              "      <td>0</td>\n",
              "      <td>40</td>\n",
              "      <td>United-States</td>\n",
              "      <td>&lt;=50K</td>\n",
              "    </tr>\n",
              "    <tr>\n",
              "      <th>13848</th>\n",
              "      <td>30</td>\n",
              "      <td>Private</td>\n",
              "      <td>180317</td>\n",
              "      <td>Assoc-voc</td>\n",
              "      <td>11</td>\n",
              "      <td>Divorced</td>\n",
              "      <td>Machine-op-inspct</td>\n",
              "      <td>Not-in-family</td>\n",
              "      <td>White</td>\n",
              "      <td>Male</td>\n",
              "      <td>0</td>\n",
              "      <td>0</td>\n",
              "      <td>40</td>\n",
              "      <td>United-States</td>\n",
              "      <td>&lt;=50K</td>\n",
              "    </tr>\n",
              "    <tr>\n",
              "      <th>15960</th>\n",
              "      <td>18</td>\n",
              "      <td>Self-emp-inc</td>\n",
              "      <td>378036</td>\n",
              "      <td>12th</td>\n",
              "      <td>8</td>\n",
              "      <td>Never-married</td>\n",
              "      <td>Farming-fishing</td>\n",
              "      <td>Own-child</td>\n",
              "      <td>White</td>\n",
              "      <td>Male</td>\n",
              "      <td>0</td>\n",
              "      <td>0</td>\n",
              "      <td>10</td>\n",
              "      <td>United-States</td>\n",
              "      <td>&lt;=50K</td>\n",
              "    </tr>\n",
              "    <tr>\n",
              "      <th>18476</th>\n",
              "      <td>39</td>\n",
              "      <td>Private</td>\n",
              "      <td>184659</td>\n",
              "      <td>HS-grad</td>\n",
              "      <td>9</td>\n",
              "      <td>Married-civ-spouse</td>\n",
              "      <td>Machine-op-inspct</td>\n",
              "      <td>Husband</td>\n",
              "      <td>White</td>\n",
              "      <td>Male</td>\n",
              "      <td>0</td>\n",
              "      <td>0</td>\n",
              "      <td>40</td>\n",
              "      <td>United-States</td>\n",
              "      <td>&lt;=50K</td>\n",
              "    </tr>\n",
              "    <tr>\n",
              "      <th>19399</th>\n",
              "      <td>19</td>\n",
              "      <td>Private</td>\n",
              "      <td>130431</td>\n",
              "      <td>5th-6th</td>\n",
              "      <td>3</td>\n",
              "      <td>Never-married</td>\n",
              "      <td>Farming-fishing</td>\n",
              "      <td>Not-in-family</td>\n",
              "      <td>White</td>\n",
              "      <td>Male</td>\n",
              "      <td>0</td>\n",
              "      <td>0</td>\n",
              "      <td>36</td>\n",
              "      <td>Mexico</td>\n",
              "      <td>&lt;=50K</td>\n",
              "    </tr>\n",
              "    <tr>\n",
              "      <th>19726</th>\n",
              "      <td>41</td>\n",
              "      <td>Private</td>\n",
              "      <td>116391</td>\n",
              "      <td>Bachelors</td>\n",
              "      <td>13</td>\n",
              "      <td>Married-civ-spouse</td>\n",
              "      <td>Exec-managerial</td>\n",
              "      <td>Husband</td>\n",
              "      <td>White</td>\n",
              "      <td>Male</td>\n",
              "      <td>0</td>\n",
              "      <td>0</td>\n",
              "      <td>40</td>\n",
              "      <td>United-States</td>\n",
              "      <td>&gt;50K</td>\n",
              "    </tr>\n",
              "    <tr>\n",
              "      <th>20606</th>\n",
              "      <td>25</td>\n",
              "      <td>Private</td>\n",
              "      <td>308144</td>\n",
              "      <td>Bachelors</td>\n",
              "      <td>13</td>\n",
              "      <td>Never-married</td>\n",
              "      <td>Craft-repair</td>\n",
              "      <td>Not-in-family</td>\n",
              "      <td>White</td>\n",
              "      <td>Male</td>\n",
              "      <td>0</td>\n",
              "      <td>0</td>\n",
              "      <td>40</td>\n",
              "      <td>Mexico</td>\n",
              "      <td>&lt;=50K</td>\n",
              "    </tr>\n",
              "    <tr>\n",
              "      <th>21162</th>\n",
              "      <td>25</td>\n",
              "      <td>Private</td>\n",
              "      <td>308144</td>\n",
              "      <td>Bachelors</td>\n",
              "      <td>13</td>\n",
              "      <td>Never-married</td>\n",
              "      <td>Craft-repair</td>\n",
              "      <td>Not-in-family</td>\n",
              "      <td>White</td>\n",
              "      <td>Male</td>\n",
              "      <td>0</td>\n",
              "      <td>0</td>\n",
              "      <td>40</td>\n",
              "      <td>Mexico</td>\n",
              "      <td>&lt;=50K</td>\n",
              "    </tr>\n",
              "    <tr>\n",
              "      <th>21385</th>\n",
              "      <td>90</td>\n",
              "      <td>Private</td>\n",
              "      <td>52386</td>\n",
              "      <td>Some-college</td>\n",
              "      <td>10</td>\n",
              "      <td>Never-married</td>\n",
              "      <td>Other-service</td>\n",
              "      <td>Not-in-family</td>\n",
              "      <td>Asian-Pac-Islander</td>\n",
              "      <td>Male</td>\n",
              "      <td>0</td>\n",
              "      <td>0</td>\n",
              "      <td>35</td>\n",
              "      <td>United-States</td>\n",
              "      <td>&lt;=50K</td>\n",
              "    </tr>\n",
              "    <tr>\n",
              "      <th>24361</th>\n",
              "      <td>21</td>\n",
              "      <td>Private</td>\n",
              "      <td>243368</td>\n",
              "      <td>Preschool</td>\n",
              "      <td>1</td>\n",
              "      <td>Never-married</td>\n",
              "      <td>Farming-fishing</td>\n",
              "      <td>Not-in-family</td>\n",
              "      <td>White</td>\n",
              "      <td>Male</td>\n",
              "      <td>0</td>\n",
              "      <td>0</td>\n",
              "      <td>50</td>\n",
              "      <td>Mexico</td>\n",
              "      <td>&lt;=50K</td>\n",
              "    </tr>\n",
              "    <tr>\n",
              "      <th>25189</th>\n",
              "      <td>29</td>\n",
              "      <td>?</td>\n",
              "      <td>41281</td>\n",
              "      <td>Bachelors</td>\n",
              "      <td>13</td>\n",
              "      <td>Married-spouse-absent</td>\n",
              "      <td>?</td>\n",
              "      <td>Not-in-family</td>\n",
              "      <td>White</td>\n",
              "      <td>Male</td>\n",
              "      <td>0</td>\n",
              "      <td>0</td>\n",
              "      <td>50</td>\n",
              "      <td>United-States</td>\n",
              "      <td>&lt;=50K</td>\n",
              "    </tr>\n",
              "    <tr>\n",
              "      <th>25452</th>\n",
              "      <td>21</td>\n",
              "      <td>Private</td>\n",
              "      <td>250051</td>\n",
              "      <td>Some-college</td>\n",
              "      <td>10</td>\n",
              "      <td>Never-married</td>\n",
              "      <td>Prof-specialty</td>\n",
              "      <td>Own-child</td>\n",
              "      <td>White</td>\n",
              "      <td>Female</td>\n",
              "      <td>0</td>\n",
              "      <td>0</td>\n",
              "      <td>10</td>\n",
              "      <td>United-States</td>\n",
              "      <td>&lt;=50K</td>\n",
              "    </tr>\n",
              "    <tr>\n",
              "      <th>25652</th>\n",
              "      <td>23</td>\n",
              "      <td>Private</td>\n",
              "      <td>239539</td>\n",
              "      <td>HS-grad</td>\n",
              "      <td>9</td>\n",
              "      <td>Never-married</td>\n",
              "      <td>Machine-op-inspct</td>\n",
              "      <td>Own-child</td>\n",
              "      <td>Asian-Pac-Islander</td>\n",
              "      <td>Male</td>\n",
              "      <td>0</td>\n",
              "      <td>0</td>\n",
              "      <td>40</td>\n",
              "      <td>Philippines</td>\n",
              "      <td>&lt;=50K</td>\n",
              "    </tr>\n",
              "    <tr>\n",
              "      <th>26122</th>\n",
              "      <td>21</td>\n",
              "      <td>Private</td>\n",
              "      <td>301694</td>\n",
              "      <td>HS-grad</td>\n",
              "      <td>9</td>\n",
              "      <td>Never-married</td>\n",
              "      <td>Craft-repair</td>\n",
              "      <td>Not-in-family</td>\n",
              "      <td>White</td>\n",
              "      <td>Male</td>\n",
              "      <td>0</td>\n",
              "      <td>0</td>\n",
              "      <td>35</td>\n",
              "      <td>Mexico</td>\n",
              "      <td>&lt;=50K</td>\n",
              "    </tr>\n",
              "    <tr>\n",
              "      <th>26375</th>\n",
              "      <td>19</td>\n",
              "      <td>?</td>\n",
              "      <td>167428</td>\n",
              "      <td>Some-college</td>\n",
              "      <td>10</td>\n",
              "      <td>Never-married</td>\n",
              "      <td>?</td>\n",
              "      <td>Own-child</td>\n",
              "      <td>White</td>\n",
              "      <td>Male</td>\n",
              "      <td>0</td>\n",
              "      <td>0</td>\n",
              "      <td>40</td>\n",
              "      <td>United-States</td>\n",
              "      <td>&lt;=50K</td>\n",
              "    </tr>\n",
              "    <tr>\n",
              "      <th>27912</th>\n",
              "      <td>20</td>\n",
              "      <td>Private</td>\n",
              "      <td>107658</td>\n",
              "      <td>Some-college</td>\n",
              "      <td>10</td>\n",
              "      <td>Never-married</td>\n",
              "      <td>Tech-support</td>\n",
              "      <td>Not-in-family</td>\n",
              "      <td>White</td>\n",
              "      <td>Female</td>\n",
              "      <td>0</td>\n",
              "      <td>0</td>\n",
              "      <td>10</td>\n",
              "      <td>United-States</td>\n",
              "      <td>&lt;=50K</td>\n",
              "    </tr>\n",
              "    <tr>\n",
              "      <th>29365</th>\n",
              "      <td>25</td>\n",
              "      <td>Private</td>\n",
              "      <td>195994</td>\n",
              "      <td>1st-4th</td>\n",
              "      <td>2</td>\n",
              "      <td>Never-married</td>\n",
              "      <td>Priv-house-serv</td>\n",
              "      <td>Not-in-family</td>\n",
              "      <td>White</td>\n",
              "      <td>Female</td>\n",
              "      <td>0</td>\n",
              "      <td>0</td>\n",
              "      <td>40</td>\n",
              "      <td>Guatemala</td>\n",
              "      <td>&lt;=50K</td>\n",
              "    </tr>\n",
              "    <tr>\n",
              "      <th>30862</th>\n",
              "      <td>31</td>\n",
              "      <td>Private</td>\n",
              "      <td>228873</td>\n",
              "      <td>HS-grad</td>\n",
              "      <td>9</td>\n",
              "      <td>Married-civ-spouse</td>\n",
              "      <td>Craft-repair</td>\n",
              "      <td>Husband</td>\n",
              "      <td>White</td>\n",
              "      <td>Male</td>\n",
              "      <td>0</td>\n",
              "      <td>0</td>\n",
              "      <td>40</td>\n",
              "      <td>United-States</td>\n",
              "      <td>&lt;=50K</td>\n",
              "    </tr>\n",
              "    <tr>\n",
              "      <th>30971</th>\n",
              "      <td>19</td>\n",
              "      <td>Private</td>\n",
              "      <td>318822</td>\n",
              "      <td>HS-grad</td>\n",
              "      <td>9</td>\n",
              "      <td>Never-married</td>\n",
              "      <td>Adm-clerical</td>\n",
              "      <td>Not-in-family</td>\n",
              "      <td>White</td>\n",
              "      <td>Female</td>\n",
              "      <td>0</td>\n",
              "      <td>0</td>\n",
              "      <td>40</td>\n",
              "      <td>United-States</td>\n",
              "      <td>&lt;=50K</td>\n",
              "    </tr>\n",
              "    <tr>\n",
              "      <th>31340</th>\n",
              "      <td>21</td>\n",
              "      <td>Private</td>\n",
              "      <td>243368</td>\n",
              "      <td>Preschool</td>\n",
              "      <td>1</td>\n",
              "      <td>Never-married</td>\n",
              "      <td>Farming-fishing</td>\n",
              "      <td>Not-in-family</td>\n",
              "      <td>White</td>\n",
              "      <td>Male</td>\n",
              "      <td>0</td>\n",
              "      <td>0</td>\n",
              "      <td>50</td>\n",
              "      <td>Mexico</td>\n",
              "      <td>&lt;=50K</td>\n",
              "    </tr>\n",
              "    <tr>\n",
              "      <th>33321</th>\n",
              "      <td>46</td>\n",
              "      <td>Private</td>\n",
              "      <td>173243</td>\n",
              "      <td>HS-grad</td>\n",
              "      <td>9</td>\n",
              "      <td>Married-civ-spouse</td>\n",
              "      <td>Craft-repair</td>\n",
              "      <td>Husband</td>\n",
              "      <td>White</td>\n",
              "      <td>Male</td>\n",
              "      <td>0</td>\n",
              "      <td>0</td>\n",
              "      <td>40</td>\n",
              "      <td>United-States</td>\n",
              "      <td>&lt;=50K</td>\n",
              "    </tr>\n",
              "    <tr>\n",
              "      <th>34148</th>\n",
              "      <td>45</td>\n",
              "      <td>Private</td>\n",
              "      <td>82797</td>\n",
              "      <td>Bachelors</td>\n",
              "      <td>13</td>\n",
              "      <td>Married-civ-spouse</td>\n",
              "      <td>Exec-managerial</td>\n",
              "      <td>Husband</td>\n",
              "      <td>White</td>\n",
              "      <td>Male</td>\n",
              "      <td>0</td>\n",
              "      <td>0</td>\n",
              "      <td>45</td>\n",
              "      <td>United-States</td>\n",
              "      <td>&gt;50K</td>\n",
              "    </tr>\n",
              "    <tr>\n",
              "      <th>34836</th>\n",
              "      <td>30</td>\n",
              "      <td>Private</td>\n",
              "      <td>144593</td>\n",
              "      <td>HS-grad</td>\n",
              "      <td>9</td>\n",
              "      <td>Never-married</td>\n",
              "      <td>Other-service</td>\n",
              "      <td>Not-in-family</td>\n",
              "      <td>Black</td>\n",
              "      <td>Male</td>\n",
              "      <td>0</td>\n",
              "      <td>0</td>\n",
              "      <td>40</td>\n",
              "      <td>?</td>\n",
              "      <td>&lt;=50K</td>\n",
              "    </tr>\n",
              "    <tr>\n",
              "      <th>34979</th>\n",
              "      <td>19</td>\n",
              "      <td>Private</td>\n",
              "      <td>97261</td>\n",
              "      <td>HS-grad</td>\n",
              "      <td>9</td>\n",
              "      <td>Never-married</td>\n",
              "      <td>Farming-fishing</td>\n",
              "      <td>Not-in-family</td>\n",
              "      <td>White</td>\n",
              "      <td>Male</td>\n",
              "      <td>0</td>\n",
              "      <td>0</td>\n",
              "      <td>40</td>\n",
              "      <td>United-States</td>\n",
              "      <td>&lt;=50K</td>\n",
              "    </tr>\n",
              "    <tr>\n",
              "      <th>35848</th>\n",
              "      <td>47</td>\n",
              "      <td>Private</td>\n",
              "      <td>199058</td>\n",
              "      <td>Some-college</td>\n",
              "      <td>10</td>\n",
              "      <td>Married-civ-spouse</td>\n",
              "      <td>Prof-specialty</td>\n",
              "      <td>Husband</td>\n",
              "      <td>White</td>\n",
              "      <td>Male</td>\n",
              "      <td>0</td>\n",
              "      <td>0</td>\n",
              "      <td>40</td>\n",
              "      <td>United-States</td>\n",
              "      <td>&gt;50K</td>\n",
              "    </tr>\n",
              "    <tr>\n",
              "      <th>36767</th>\n",
              "      <td>43</td>\n",
              "      <td>Private</td>\n",
              "      <td>195258</td>\n",
              "      <td>HS-grad</td>\n",
              "      <td>9</td>\n",
              "      <td>Married-civ-spouse</td>\n",
              "      <td>Craft-repair</td>\n",
              "      <td>Husband</td>\n",
              "      <td>White</td>\n",
              "      <td>Male</td>\n",
              "      <td>0</td>\n",
              "      <td>0</td>\n",
              "      <td>40</td>\n",
              "      <td>United-States</td>\n",
              "      <td>&gt;50K</td>\n",
              "    </tr>\n",
              "    <tr>\n",
              "      <th>36848</th>\n",
              "      <td>22</td>\n",
              "      <td>Private</td>\n",
              "      <td>137876</td>\n",
              "      <td>Some-college</td>\n",
              "      <td>10</td>\n",
              "      <td>Never-married</td>\n",
              "      <td>Protective-serv</td>\n",
              "      <td>Not-in-family</td>\n",
              "      <td>White</td>\n",
              "      <td>Male</td>\n",
              "      <td>0</td>\n",
              "      <td>0</td>\n",
              "      <td>20</td>\n",
              "      <td>United-States</td>\n",
              "      <td>&lt;=50K</td>\n",
              "    </tr>\n",
              "    <tr>\n",
              "      <th>37599</th>\n",
              "      <td>19</td>\n",
              "      <td>Private</td>\n",
              "      <td>138153</td>\n",
              "      <td>Some-college</td>\n",
              "      <td>10</td>\n",
              "      <td>Never-married</td>\n",
              "      <td>Adm-clerical</td>\n",
              "      <td>Own-child</td>\n",
              "      <td>White</td>\n",
              "      <td>Female</td>\n",
              "      <td>0</td>\n",
              "      <td>0</td>\n",
              "      <td>10</td>\n",
              "      <td>United-States</td>\n",
              "      <td>&lt;=50K</td>\n",
              "    </tr>\n",
              "    <tr>\n",
              "      <th>37771</th>\n",
              "      <td>19</td>\n",
              "      <td>Private</td>\n",
              "      <td>146679</td>\n",
              "      <td>Some-college</td>\n",
              "      <td>10</td>\n",
              "      <td>Never-married</td>\n",
              "      <td>Exec-managerial</td>\n",
              "      <td>Own-child</td>\n",
              "      <td>Black</td>\n",
              "      <td>Male</td>\n",
              "      <td>0</td>\n",
              "      <td>0</td>\n",
              "      <td>30</td>\n",
              "      <td>United-States</td>\n",
              "      <td>&lt;=50K</td>\n",
              "    </tr>\n",
              "    <tr>\n",
              "      <th>38156</th>\n",
              "      <td>49</td>\n",
              "      <td>Private</td>\n",
              "      <td>31267</td>\n",
              "      <td>7th-8th</td>\n",
              "      <td>4</td>\n",
              "      <td>Married-civ-spouse</td>\n",
              "      <td>Craft-repair</td>\n",
              "      <td>Husband</td>\n",
              "      <td>White</td>\n",
              "      <td>Male</td>\n",
              "      <td>0</td>\n",
              "      <td>0</td>\n",
              "      <td>40</td>\n",
              "      <td>United-States</td>\n",
              "      <td>&lt;=50K</td>\n",
              "    </tr>\n",
              "    <tr>\n",
              "      <th>38255</th>\n",
              "      <td>30</td>\n",
              "      <td>Private</td>\n",
              "      <td>111567</td>\n",
              "      <td>HS-grad</td>\n",
              "      <td>9</td>\n",
              "      <td>Never-married</td>\n",
              "      <td>Craft-repair</td>\n",
              "      <td>Own-child</td>\n",
              "      <td>White</td>\n",
              "      <td>Male</td>\n",
              "      <td>0</td>\n",
              "      <td>0</td>\n",
              "      <td>48</td>\n",
              "      <td>United-States</td>\n",
              "      <td>&lt;=50K</td>\n",
              "    </tr>\n",
              "    <tr>\n",
              "      <th>38530</th>\n",
              "      <td>19</td>\n",
              "      <td>Private</td>\n",
              "      <td>139466</td>\n",
              "      <td>Some-college</td>\n",
              "      <td>10</td>\n",
              "      <td>Never-married</td>\n",
              "      <td>Sales</td>\n",
              "      <td>Own-child</td>\n",
              "      <td>White</td>\n",
              "      <td>Female</td>\n",
              "      <td>0</td>\n",
              "      <td>0</td>\n",
              "      <td>25</td>\n",
              "      <td>United-States</td>\n",
              "      <td>&lt;=50K</td>\n",
              "    </tr>\n",
              "    <tr>\n",
              "      <th>38581</th>\n",
              "      <td>25</td>\n",
              "      <td>Private</td>\n",
              "      <td>195994</td>\n",
              "      <td>1st-4th</td>\n",
              "      <td>2</td>\n",
              "      <td>Never-married</td>\n",
              "      <td>Priv-house-serv</td>\n",
              "      <td>Not-in-family</td>\n",
              "      <td>White</td>\n",
              "      <td>Female</td>\n",
              "      <td>0</td>\n",
              "      <td>0</td>\n",
              "      <td>40</td>\n",
              "      <td>Guatemala</td>\n",
              "      <td>&lt;=50K</td>\n",
              "    </tr>\n",
              "    <tr>\n",
              "      <th>38648</th>\n",
              "      <td>44</td>\n",
              "      <td>Private</td>\n",
              "      <td>367749</td>\n",
              "      <td>Bachelors</td>\n",
              "      <td>13</td>\n",
              "      <td>Never-married</td>\n",
              "      <td>Prof-specialty</td>\n",
              "      <td>Not-in-family</td>\n",
              "      <td>White</td>\n",
              "      <td>Female</td>\n",
              "      <td>0</td>\n",
              "      <td>0</td>\n",
              "      <td>45</td>\n",
              "      <td>Mexico</td>\n",
              "      <td>&lt;=50K</td>\n",
              "    </tr>\n",
              "    <tr>\n",
              "      <th>38775</th>\n",
              "      <td>49</td>\n",
              "      <td>Self-emp-not-inc</td>\n",
              "      <td>43479</td>\n",
              "      <td>Some-college</td>\n",
              "      <td>10</td>\n",
              "      <td>Married-civ-spouse</td>\n",
              "      <td>Craft-repair</td>\n",
              "      <td>Husband</td>\n",
              "      <td>White</td>\n",
              "      <td>Male</td>\n",
              "      <td>0</td>\n",
              "      <td>0</td>\n",
              "      <td>40</td>\n",
              "      <td>United-States</td>\n",
              "      <td>&lt;=50K</td>\n",
              "    </tr>\n",
              "    <tr>\n",
              "      <th>40948</th>\n",
              "      <td>17</td>\n",
              "      <td>Private</td>\n",
              "      <td>153021</td>\n",
              "      <td>12th</td>\n",
              "      <td>8</td>\n",
              "      <td>Never-married</td>\n",
              "      <td>Sales</td>\n",
              "      <td>Own-child</td>\n",
              "      <td>White</td>\n",
              "      <td>Female</td>\n",
              "      <td>0</td>\n",
              "      <td>0</td>\n",
              "      <td>20</td>\n",
              "      <td>United-States</td>\n",
              "      <td>&lt;=50K</td>\n",
              "    </tr>\n",
              "    <tr>\n",
              "      <th>41965</th>\n",
              "      <td>25</td>\n",
              "      <td>Private</td>\n",
              "      <td>112835</td>\n",
              "      <td>Bachelors</td>\n",
              "      <td>13</td>\n",
              "      <td>Never-married</td>\n",
              "      <td>Prof-specialty</td>\n",
              "      <td>Not-in-family</td>\n",
              "      <td>White</td>\n",
              "      <td>Male</td>\n",
              "      <td>0</td>\n",
              "      <td>0</td>\n",
              "      <td>40</td>\n",
              "      <td>United-States</td>\n",
              "      <td>&lt;=50K</td>\n",
              "    </tr>\n",
              "    <tr>\n",
              "      <th>42153</th>\n",
              "      <td>23</td>\n",
              "      <td>Private</td>\n",
              "      <td>240137</td>\n",
              "      <td>5th-6th</td>\n",
              "      <td>3</td>\n",
              "      <td>Never-married</td>\n",
              "      <td>Handlers-cleaners</td>\n",
              "      <td>Not-in-family</td>\n",
              "      <td>White</td>\n",
              "      <td>Male</td>\n",
              "      <td>0</td>\n",
              "      <td>0</td>\n",
              "      <td>55</td>\n",
              "      <td>Mexico</td>\n",
              "      <td>&lt;=50K</td>\n",
              "    </tr>\n",
              "    <tr>\n",
              "      <th>42594</th>\n",
              "      <td>28</td>\n",
              "      <td>Private</td>\n",
              "      <td>274679</td>\n",
              "      <td>Masters</td>\n",
              "      <td>14</td>\n",
              "      <td>Never-married</td>\n",
              "      <td>Prof-specialty</td>\n",
              "      <td>Not-in-family</td>\n",
              "      <td>White</td>\n",
              "      <td>Male</td>\n",
              "      <td>0</td>\n",
              "      <td>0</td>\n",
              "      <td>50</td>\n",
              "      <td>United-States</td>\n",
              "      <td>&lt;=50K</td>\n",
              "    </tr>\n",
              "    <tr>\n",
              "      <th>44201</th>\n",
              "      <td>23</td>\n",
              "      <td>Private</td>\n",
              "      <td>107882</td>\n",
              "      <td>Bachelors</td>\n",
              "      <td>13</td>\n",
              "      <td>Never-married</td>\n",
              "      <td>Adm-clerical</td>\n",
              "      <td>Own-child</td>\n",
              "      <td>White</td>\n",
              "      <td>Female</td>\n",
              "      <td>0</td>\n",
              "      <td>0</td>\n",
              "      <td>40</td>\n",
              "      <td>United-States</td>\n",
              "      <td>&lt;=50K</td>\n",
              "    </tr>\n",
              "    <tr>\n",
              "      <th>44511</th>\n",
              "      <td>27</td>\n",
              "      <td>Private</td>\n",
              "      <td>255582</td>\n",
              "      <td>HS-grad</td>\n",
              "      <td>9</td>\n",
              "      <td>Never-married</td>\n",
              "      <td>Machine-op-inspct</td>\n",
              "      <td>Not-in-family</td>\n",
              "      <td>White</td>\n",
              "      <td>Female</td>\n",
              "      <td>0</td>\n",
              "      <td>0</td>\n",
              "      <td>40</td>\n",
              "      <td>United-States</td>\n",
              "      <td>&lt;=50K</td>\n",
              "    </tr>\n",
              "    <tr>\n",
              "      <th>44803</th>\n",
              "      <td>42</td>\n",
              "      <td>Private</td>\n",
              "      <td>204235</td>\n",
              "      <td>Some-college</td>\n",
              "      <td>10</td>\n",
              "      <td>Married-civ-spouse</td>\n",
              "      <td>Prof-specialty</td>\n",
              "      <td>Husband</td>\n",
              "      <td>White</td>\n",
              "      <td>Male</td>\n",
              "      <td>0</td>\n",
              "      <td>0</td>\n",
              "      <td>40</td>\n",
              "      <td>United-States</td>\n",
              "      <td>&gt;50K</td>\n",
              "    </tr>\n",
              "    <tr>\n",
              "      <th>45127</th>\n",
              "      <td>39</td>\n",
              "      <td>Private</td>\n",
              "      <td>30916</td>\n",
              "      <td>HS-grad</td>\n",
              "      <td>9</td>\n",
              "      <td>Married-civ-spouse</td>\n",
              "      <td>Craft-repair</td>\n",
              "      <td>Husband</td>\n",
              "      <td>White</td>\n",
              "      <td>Male</td>\n",
              "      <td>0</td>\n",
              "      <td>0</td>\n",
              "      <td>40</td>\n",
              "      <td>United-States</td>\n",
              "      <td>&lt;=50K</td>\n",
              "    </tr>\n",
              "    <tr>\n",
              "      <th>45438</th>\n",
              "      <td>38</td>\n",
              "      <td>Private</td>\n",
              "      <td>207202</td>\n",
              "      <td>HS-grad</td>\n",
              "      <td>9</td>\n",
              "      <td>Married-civ-spouse</td>\n",
              "      <td>Machine-op-inspct</td>\n",
              "      <td>Husband</td>\n",
              "      <td>White</td>\n",
              "      <td>Male</td>\n",
              "      <td>0</td>\n",
              "      <td>0</td>\n",
              "      <td>48</td>\n",
              "      <td>United-States</td>\n",
              "      <td>&gt;50K</td>\n",
              "    </tr>\n",
              "    <tr>\n",
              "      <th>46626</th>\n",
              "      <td>23</td>\n",
              "      <td>Private</td>\n",
              "      <td>250630</td>\n",
              "      <td>Bachelors</td>\n",
              "      <td>13</td>\n",
              "      <td>Never-married</td>\n",
              "      <td>Sales</td>\n",
              "      <td>Not-in-family</td>\n",
              "      <td>White</td>\n",
              "      <td>Female</td>\n",
              "      <td>0</td>\n",
              "      <td>0</td>\n",
              "      <td>40</td>\n",
              "      <td>United-States</td>\n",
              "      <td>&lt;=50K</td>\n",
              "    </tr>\n",
              "    <tr>\n",
              "      <th>46665</th>\n",
              "      <td>20</td>\n",
              "      <td>?</td>\n",
              "      <td>203353</td>\n",
              "      <td>Some-college</td>\n",
              "      <td>10</td>\n",
              "      <td>Never-married</td>\n",
              "      <td>?</td>\n",
              "      <td>Own-child</td>\n",
              "      <td>White</td>\n",
              "      <td>Female</td>\n",
              "      <td>0</td>\n",
              "      <td>0</td>\n",
              "      <td>40</td>\n",
              "      <td>United-States</td>\n",
              "      <td>&lt;=50K</td>\n",
              "    </tr>\n",
              "    <tr>\n",
              "      <th>46979</th>\n",
              "      <td>22</td>\n",
              "      <td>?</td>\n",
              "      <td>334593</td>\n",
              "      <td>Some-college</td>\n",
              "      <td>10</td>\n",
              "      <td>Never-married</td>\n",
              "      <td>?</td>\n",
              "      <td>Not-in-family</td>\n",
              "      <td>White</td>\n",
              "      <td>Male</td>\n",
              "      <td>0</td>\n",
              "      <td>0</td>\n",
              "      <td>40</td>\n",
              "      <td>United-States</td>\n",
              "      <td>&lt;=50K</td>\n",
              "    </tr>\n",
              "    <tr>\n",
              "      <th>47126</th>\n",
              "      <td>46</td>\n",
              "      <td>Private</td>\n",
              "      <td>133616</td>\n",
              "      <td>Some-college</td>\n",
              "      <td>10</td>\n",
              "      <td>Divorced</td>\n",
              "      <td>Adm-clerical</td>\n",
              "      <td>Unmarried</td>\n",
              "      <td>White</td>\n",
              "      <td>Female</td>\n",
              "      <td>0</td>\n",
              "      <td>0</td>\n",
              "      <td>40</td>\n",
              "      <td>United-States</td>\n",
              "      <td>&lt;=50K</td>\n",
              "    </tr>\n",
              "    <tr>\n",
              "      <th>48274</th>\n",
              "      <td>19</td>\n",
              "      <td>Private</td>\n",
              "      <td>251579</td>\n",
              "      <td>Some-college</td>\n",
              "      <td>10</td>\n",
              "      <td>Never-married</td>\n",
              "      <td>Other-service</td>\n",
              "      <td>Own-child</td>\n",
              "      <td>White</td>\n",
              "      <td>Male</td>\n",
              "      <td>0</td>\n",
              "      <td>0</td>\n",
              "      <td>14</td>\n",
              "      <td>United-States</td>\n",
              "      <td>&lt;=50K</td>\n",
              "    </tr>\n",
              "    <tr>\n",
              "      <th>48685</th>\n",
              "      <td>35</td>\n",
              "      <td>Private</td>\n",
              "      <td>379959</td>\n",
              "      <td>HS-grad</td>\n",
              "      <td>9</td>\n",
              "      <td>Divorced</td>\n",
              "      <td>Other-service</td>\n",
              "      <td>Not-in-family</td>\n",
              "      <td>White</td>\n",
              "      <td>Female</td>\n",
              "      <td>0</td>\n",
              "      <td>0</td>\n",
              "      <td>40</td>\n",
              "      <td>United-States</td>\n",
              "      <td>&lt;=50K</td>\n",
              "    </tr>\n",
              "  </tbody>\n",
              "</table>\n",
              "</div>"
            ],
            "text/plain": [
              "       age         workclass  fnlwgt  ... hours-per-week  native-country income\n",
              "864     24           Private  194630  ...             35   United-States  <=50K\n",
              "11189   37           Private   52870  ...             40   United-States  <=50K\n",
              "11212   29           Private   36440  ...             40   United-States  <=50K\n",
              "13848   30           Private  180317  ...             40   United-States  <=50K\n",
              "15960   18      Self-emp-inc  378036  ...             10   United-States  <=50K\n",
              "18476   39           Private  184659  ...             40   United-States  <=50K\n",
              "19399   19           Private  130431  ...             36          Mexico  <=50K\n",
              "19726   41           Private  116391  ...             40   United-States   >50K\n",
              "20606   25           Private  308144  ...             40          Mexico  <=50K\n",
              "21162   25           Private  308144  ...             40          Mexico  <=50K\n",
              "21385   90           Private   52386  ...             35   United-States  <=50K\n",
              "24361   21           Private  243368  ...             50          Mexico  <=50K\n",
              "25189   29                 ?   41281  ...             50   United-States  <=50K\n",
              "25452   21           Private  250051  ...             10   United-States  <=50K\n",
              "25652   23           Private  239539  ...             40     Philippines  <=50K\n",
              "26122   21           Private  301694  ...             35          Mexico  <=50K\n",
              "26375   19                 ?  167428  ...             40   United-States  <=50K\n",
              "27912   20           Private  107658  ...             10   United-States  <=50K\n",
              "29365   25           Private  195994  ...             40       Guatemala  <=50K\n",
              "30862   31           Private  228873  ...             40   United-States  <=50K\n",
              "30971   19           Private  318822  ...             40   United-States  <=50K\n",
              "31340   21           Private  243368  ...             50          Mexico  <=50K\n",
              "33321   46           Private  173243  ...             40   United-States  <=50K\n",
              "34148   45           Private   82797  ...             45   United-States   >50K\n",
              "34836   30           Private  144593  ...             40               ?  <=50K\n",
              "34979   19           Private   97261  ...             40   United-States  <=50K\n",
              "35848   47           Private  199058  ...             40   United-States   >50K\n",
              "36767   43           Private  195258  ...             40   United-States   >50K\n",
              "36848   22           Private  137876  ...             20   United-States  <=50K\n",
              "37599   19           Private  138153  ...             10   United-States  <=50K\n",
              "37771   19           Private  146679  ...             30   United-States  <=50K\n",
              "38156   49           Private   31267  ...             40   United-States  <=50K\n",
              "38255   30           Private  111567  ...             48   United-States  <=50K\n",
              "38530   19           Private  139466  ...             25   United-States  <=50K\n",
              "38581   25           Private  195994  ...             40       Guatemala  <=50K\n",
              "38648   44           Private  367749  ...             45          Mexico  <=50K\n",
              "38775   49  Self-emp-not-inc   43479  ...             40   United-States  <=50K\n",
              "40948   17           Private  153021  ...             20   United-States  <=50K\n",
              "41965   25           Private  112835  ...             40   United-States  <=50K\n",
              "42153   23           Private  240137  ...             55          Mexico  <=50K\n",
              "42594   28           Private  274679  ...             50   United-States  <=50K\n",
              "44201   23           Private  107882  ...             40   United-States  <=50K\n",
              "44511   27           Private  255582  ...             40   United-States  <=50K\n",
              "44803   42           Private  204235  ...             40   United-States   >50K\n",
              "45127   39           Private   30916  ...             40   United-States  <=50K\n",
              "45438   38           Private  207202  ...             48   United-States   >50K\n",
              "46626   23           Private  250630  ...             40   United-States  <=50K\n",
              "46665   20                 ?  203353  ...             40   United-States  <=50K\n",
              "46979   22                 ?  334593  ...             40   United-States  <=50K\n",
              "47126   46           Private  133616  ...             40   United-States  <=50K\n",
              "48274   19           Private  251579  ...             14   United-States  <=50K\n",
              "48685   35           Private  379959  ...             40   United-States  <=50K\n",
              "\n",
              "[52 rows x 15 columns]"
            ]
          },
          "metadata": {
            "tags": []
          },
          "execution_count": 327
        }
      ]
    },
    {
      "cell_type": "code",
      "metadata": {
        "id": "IvKAj7jHdtA2"
      },
      "source": [
        "df=df[~df.duplicated()]\n",
        "\n",
        "# df.replace('?', np.nan, inplace=True)\n",
        "# df.dropna(inplace=True)  "
      ],
      "execution_count": null,
      "outputs": []
    },
    {
      "cell_type": "markdown",
      "metadata": {
        "id": "evSWdkjwRZhE"
      },
      "source": [
        "Convert target  to numeric"
      ]
    },
    {
      "cell_type": "code",
      "metadata": {
        "id": "nZHosYT-0vQh"
      },
      "source": [
        "LE = LabelEncoder()\n",
        "df['income'] = LE.fit_transform(df['income'])"
      ],
      "execution_count": null,
      "outputs": []
    },
    {
      "cell_type": "markdown",
      "metadata": {
        "id": "c5fN1NAfq1nj"
      },
      "source": [
        "Interpolate missing Data\n"
      ]
    },
    {
      "cell_type": "code",
      "metadata": {
        "colab": {
          "base_uri": "https://localhost:8080/",
          "height": 538
        },
        "id": "8OtXO-1FpgAy",
        "outputId": "b50aaa66-689e-4a23-935e-ee1b139802a2"
      },
      "source": [
        "df[(df[df.columns].values == '?')]"
      ],
      "execution_count": null,
      "outputs": [
        {
          "output_type": "execute_result",
          "data": {
            "text/html": [
              "<div>\n",
              "<style scoped>\n",
              "    .dataframe tbody tr th:only-of-type {\n",
              "        vertical-align: middle;\n",
              "    }\n",
              "\n",
              "    .dataframe tbody tr th {\n",
              "        vertical-align: top;\n",
              "    }\n",
              "\n",
              "    .dataframe thead th {\n",
              "        text-align: right;\n",
              "    }\n",
              "</style>\n",
              "<table border=\"1\" class=\"dataframe\">\n",
              "  <thead>\n",
              "    <tr style=\"text-align: right;\">\n",
              "      <th></th>\n",
              "      <th>age</th>\n",
              "      <th>workclass</th>\n",
              "      <th>fnlwgt</th>\n",
              "      <th>education</th>\n",
              "      <th>educational-num</th>\n",
              "      <th>marital-status</th>\n",
              "      <th>occupation</th>\n",
              "      <th>relationship</th>\n",
              "      <th>race</th>\n",
              "      <th>gender</th>\n",
              "      <th>capital-gain</th>\n",
              "      <th>capital-loss</th>\n",
              "      <th>hours-per-week</th>\n",
              "      <th>native-country</th>\n",
              "      <th>income</th>\n",
              "    </tr>\n",
              "  </thead>\n",
              "  <tbody>\n",
              "    <tr>\n",
              "      <th>4</th>\n",
              "      <td>18</td>\n",
              "      <td>?</td>\n",
              "      <td>103497</td>\n",
              "      <td>Some-college</td>\n",
              "      <td>10</td>\n",
              "      <td>Never-married</td>\n",
              "      <td>?</td>\n",
              "      <td>Own-child</td>\n",
              "      <td>White</td>\n",
              "      <td>Female</td>\n",
              "      <td>0</td>\n",
              "      <td>0</td>\n",
              "      <td>30</td>\n",
              "      <td>United-States</td>\n",
              "      <td>0</td>\n",
              "    </tr>\n",
              "    <tr>\n",
              "      <th>4</th>\n",
              "      <td>18</td>\n",
              "      <td>?</td>\n",
              "      <td>103497</td>\n",
              "      <td>Some-college</td>\n",
              "      <td>10</td>\n",
              "      <td>Never-married</td>\n",
              "      <td>?</td>\n",
              "      <td>Own-child</td>\n",
              "      <td>White</td>\n",
              "      <td>Female</td>\n",
              "      <td>0</td>\n",
              "      <td>0</td>\n",
              "      <td>30</td>\n",
              "      <td>United-States</td>\n",
              "      <td>0</td>\n",
              "    </tr>\n",
              "    <tr>\n",
              "      <th>6</th>\n",
              "      <td>29</td>\n",
              "      <td>?</td>\n",
              "      <td>227026</td>\n",
              "      <td>HS-grad</td>\n",
              "      <td>9</td>\n",
              "      <td>Never-married</td>\n",
              "      <td>?</td>\n",
              "      <td>Unmarried</td>\n",
              "      <td>Black</td>\n",
              "      <td>Male</td>\n",
              "      <td>0</td>\n",
              "      <td>0</td>\n",
              "      <td>40</td>\n",
              "      <td>United-States</td>\n",
              "      <td>0</td>\n",
              "    </tr>\n",
              "    <tr>\n",
              "      <th>6</th>\n",
              "      <td>29</td>\n",
              "      <td>?</td>\n",
              "      <td>227026</td>\n",
              "      <td>HS-grad</td>\n",
              "      <td>9</td>\n",
              "      <td>Never-married</td>\n",
              "      <td>?</td>\n",
              "      <td>Unmarried</td>\n",
              "      <td>Black</td>\n",
              "      <td>Male</td>\n",
              "      <td>0</td>\n",
              "      <td>0</td>\n",
              "      <td>40</td>\n",
              "      <td>United-States</td>\n",
              "      <td>0</td>\n",
              "    </tr>\n",
              "    <tr>\n",
              "      <th>13</th>\n",
              "      <td>58</td>\n",
              "      <td>?</td>\n",
              "      <td>299831</td>\n",
              "      <td>HS-grad</td>\n",
              "      <td>9</td>\n",
              "      <td>Married-civ-spouse</td>\n",
              "      <td>?</td>\n",
              "      <td>Husband</td>\n",
              "      <td>White</td>\n",
              "      <td>Male</td>\n",
              "      <td>0</td>\n",
              "      <td>0</td>\n",
              "      <td>35</td>\n",
              "      <td>United-States</td>\n",
              "      <td>0</td>\n",
              "    </tr>\n",
              "    <tr>\n",
              "      <th>...</th>\n",
              "      <td>...</td>\n",
              "      <td>...</td>\n",
              "      <td>...</td>\n",
              "      <td>...</td>\n",
              "      <td>...</td>\n",
              "      <td>...</td>\n",
              "      <td>...</td>\n",
              "      <td>...</td>\n",
              "      <td>...</td>\n",
              "      <td>...</td>\n",
              "      <td>...</td>\n",
              "      <td>...</td>\n",
              "      <td>...</td>\n",
              "      <td>...</td>\n",
              "      <td>...</td>\n",
              "    </tr>\n",
              "    <tr>\n",
              "      <th>48820</th>\n",
              "      <td>71</td>\n",
              "      <td>?</td>\n",
              "      <td>287372</td>\n",
              "      <td>Doctorate</td>\n",
              "      <td>16</td>\n",
              "      <td>Married-civ-spouse</td>\n",
              "      <td>?</td>\n",
              "      <td>Husband</td>\n",
              "      <td>White</td>\n",
              "      <td>Male</td>\n",
              "      <td>0</td>\n",
              "      <td>0</td>\n",
              "      <td>10</td>\n",
              "      <td>United-States</td>\n",
              "      <td>1</td>\n",
              "    </tr>\n",
              "    <tr>\n",
              "      <th>48822</th>\n",
              "      <td>41</td>\n",
              "      <td>?</td>\n",
              "      <td>202822</td>\n",
              "      <td>HS-grad</td>\n",
              "      <td>9</td>\n",
              "      <td>Separated</td>\n",
              "      <td>?</td>\n",
              "      <td>Not-in-family</td>\n",
              "      <td>Black</td>\n",
              "      <td>Female</td>\n",
              "      <td>0</td>\n",
              "      <td>0</td>\n",
              "      <td>32</td>\n",
              "      <td>United-States</td>\n",
              "      <td>0</td>\n",
              "    </tr>\n",
              "    <tr>\n",
              "      <th>48822</th>\n",
              "      <td>41</td>\n",
              "      <td>?</td>\n",
              "      <td>202822</td>\n",
              "      <td>HS-grad</td>\n",
              "      <td>9</td>\n",
              "      <td>Separated</td>\n",
              "      <td>?</td>\n",
              "      <td>Not-in-family</td>\n",
              "      <td>Black</td>\n",
              "      <td>Female</td>\n",
              "      <td>0</td>\n",
              "      <td>0</td>\n",
              "      <td>32</td>\n",
              "      <td>United-States</td>\n",
              "      <td>0</td>\n",
              "    </tr>\n",
              "    <tr>\n",
              "      <th>48823</th>\n",
              "      <td>72</td>\n",
              "      <td>?</td>\n",
              "      <td>129912</td>\n",
              "      <td>HS-grad</td>\n",
              "      <td>9</td>\n",
              "      <td>Married-civ-spouse</td>\n",
              "      <td>?</td>\n",
              "      <td>Husband</td>\n",
              "      <td>White</td>\n",
              "      <td>Male</td>\n",
              "      <td>0</td>\n",
              "      <td>0</td>\n",
              "      <td>25</td>\n",
              "      <td>United-States</td>\n",
              "      <td>0</td>\n",
              "    </tr>\n",
              "    <tr>\n",
              "      <th>48823</th>\n",
              "      <td>72</td>\n",
              "      <td>?</td>\n",
              "      <td>129912</td>\n",
              "      <td>HS-grad</td>\n",
              "      <td>9</td>\n",
              "      <td>Married-civ-spouse</td>\n",
              "      <td>?</td>\n",
              "      <td>Husband</td>\n",
              "      <td>White</td>\n",
              "      <td>Male</td>\n",
              "      <td>0</td>\n",
              "      <td>0</td>\n",
              "      <td>25</td>\n",
              "      <td>United-States</td>\n",
              "      <td>0</td>\n",
              "    </tr>\n",
              "  </tbody>\n",
              "</table>\n",
              "<p>6456 rows × 15 columns</p>\n",
              "</div>"
            ],
            "text/plain": [
              "       age workclass  fnlwgt  ... hours-per-week  native-country income\n",
              "4       18         ?  103497  ...             30   United-States      0\n",
              "4       18         ?  103497  ...             30   United-States      0\n",
              "6       29         ?  227026  ...             40   United-States      0\n",
              "6       29         ?  227026  ...             40   United-States      0\n",
              "13      58         ?  299831  ...             35   United-States      0\n",
              "...    ...       ...     ...  ...            ...             ...    ...\n",
              "48820   71         ?  287372  ...             10   United-States      1\n",
              "48822   41         ?  202822  ...             32   United-States      0\n",
              "48822   41         ?  202822  ...             32   United-States      0\n",
              "48823   72         ?  129912  ...             25   United-States      0\n",
              "48823   72         ?  129912  ...             25   United-States      0\n",
              "\n",
              "[6456 rows x 15 columns]"
            ]
          },
          "metadata": {
            "tags": []
          },
          "execution_count": 286
        }
      ]
    },
    {
      "cell_type": "markdown",
      "metadata": {
        "id": "LQ49lJ7or3aV"
      },
      "source": [
        "Find best corr feature for interpolate data"
      ]
    },
    {
      "cell_type": "code",
      "metadata": {
        "id": "qT5hH-2P1CIY",
        "colab": {
          "base_uri": "https://localhost:8080/"
        },
        "outputId": "9745bb06-0b51-428e-974b-4da3f8775967"
      },
      "source": [
        "df.replace('?', np.nan, inplace=True)\n",
        "df.info()"
      ],
      "execution_count": null,
      "outputs": [
        {
          "output_type": "stream",
          "text": [
            "<class 'pandas.core.frame.DataFrame'>\n",
            "Int64Index: 48790 entries, 0 to 48841\n",
            "Data columns (total 15 columns):\n",
            " #   Column           Non-Null Count  Dtype \n",
            "---  ------           --------------  ----- \n",
            " 0   age              48790 non-null  int64 \n",
            " 1   workclass        45995 non-null  object\n",
            " 2   fnlwgt           48790 non-null  int64 \n",
            " 3   education        48790 non-null  object\n",
            " 4   educational-num  48790 non-null  int64 \n",
            " 5   marital-status   48790 non-null  object\n",
            " 6   occupation       45985 non-null  object\n",
            " 7   relationship     48790 non-null  object\n",
            " 8   race             48790 non-null  object\n",
            " 9   gender           48790 non-null  object\n",
            " 10  capital-gain     48790 non-null  int64 \n",
            " 11  capital-loss     48790 non-null  int64 \n",
            " 12  hours-per-week   48790 non-null  int64 \n",
            " 13  native-country   47934 non-null  object\n",
            " 14  income           48790 non-null  int64 \n",
            "dtypes: int64(7), object(8)\n",
            "memory usage: 6.0+ MB\n"
          ],
          "name": "stdout"
        }
      ]
    },
    {
      "cell_type": "code",
      "metadata": {
        "id": "0eqPavLIt90I"
      },
      "source": [
        "for feature in list_feature_cate:\n",
        "    df[feature+'_cate'] = df[feature].astype('category').cat.codes"
      ],
      "execution_count": null,
      "outputs": []
    },
    {
      "cell_type": "code",
      "metadata": {
        "colab": {
          "base_uri": "https://localhost:8080/",
          "height": 603
        },
        "id": "HskQSUihqVY4",
        "outputId": "198e4fc7-e33b-4749-af43-470b8bfe20b5"
      },
      "source": [
        "df.hist(bins=10,figsize=(15,10),grid=False);"
      ],
      "execution_count": null,
      "outputs": [
        {
          "output_type": "display_data",
          "data": {
            "image/png": "[encoded data removed]",
            "text/plain": [
              "<Figure size 1080x720 with 16 Axes>"
            ]
          },
          "metadata": {
            "tags": [],
            "needs_background": "light"
          }
        }
      ]
    },
    {
      "cell_type": "code",
      "metadata": {
        "colab": {
          "base_uri": "https://localhost:8080/",
          "height": 669
        },
        "id": "03MtguQ5uNVb",
        "outputId": "c29a93e2-f752-4aa4-cead-2549fd2953f3"
      },
      "source": [
        "plt.figure(figsize=(12,10))\n",
        "cor = abs(df.corr())\n",
        "sns.heatmap(cor, annot=True, cmap=\"YlGnBu\")\n",
        "plt.show()"
      ],
      "execution_count": null,
      "outputs": [
        {
          "output_type": "display_data",
          "data": {
            "image/png": "[encoded data removed]",
            "text/plain": [
              "<Figure size 864x720 with 2 Axes>"
            ]
          },
          "metadata": {
            "tags": [],
            "needs_background": "light"
          }
        }
      ]
    },
    {
      "cell_type": "code",
      "metadata": {
        "colab": {
          "base_uri": "https://localhost:8080/"
        },
        "id": "lECLXuaSuqG7",
        "outputId": "ee86538e-15e8-444d-d23b-a960e2f06756"
      },
      "source": [
        "\n",
        "for feature in list_feature_cate:\n",
        "    feature_cate = feature + '_cate'\n",
        "    best_corr = cor[feature_cate][cor[feature_cate] != 1 ].nlargest(n=1).index[0]\n",
        "    \n",
        "\n",
        "    for index, df_grp in df.groupby(best_corr):\n",
        "        if  len(df.loc[ (df[feature].isnull()) & (df[best_corr] == index), feature]) == 0:\n",
        "            continue\n",
        "        print(f'interpolate {feature} by {best_corr}, value {index}.')\n",
        "        try:\n",
        "            filled_value = df[ (df[best_corr] == index) ][feature].value_counts().nlargest(n=1).index[0]\n",
        "            df.loc[ (df[feature].isnull()) & (df[best_corr] == index), feature] = filled_value\n",
        "        except:\n",
        "            filled_value = df[feature].value_counts().nlargest(n=1).index[0]\n",
        "            df.loc[ (df[feature].isnull()) & (df[best_corr] == index), feature] = filled_value\n",
        "        # print(filled_value)"
      ],
      "execution_count": null,
      "outputs": [
        {
          "output_type": "stream",
          "text": [
            "interpolate workclass by occupation_cate, value -1.\n",
            "interpolate occupation by workclass_cate, value -1.\n",
            "interpolate occupation by workclass_cate, value 2.\n",
            "interpolate native-country by race_cate, value 1.\n",
            "interpolate native-country by race_cate, value 2.\n",
            "interpolate native-country by race_cate, value 3.\n",
            "interpolate native-country by race_cate, value 4.\n"
          ],
          "name": "stdout"
        }
      ]
    },
    {
      "cell_type": "code",
      "metadata": {
        "id": "9qT1OtuLuIpZ"
      },
      "source": [
        "for feature in list_feature_cate:\n",
        "    df.drop([feature+'_cate'], inplace=True, axis=1)"
      ],
      "execution_count": null,
      "outputs": []
    },
    {
      "cell_type": "code",
      "metadata": {
        "colab": {
          "base_uri": "https://localhost:8080/"
        },
        "id": "eo6EzNwn4iMY",
        "outputId": "3fdea1c6-a0cf-4922-bd1c-416ead0281bc"
      },
      "source": [
        "df.info()"
      ],
      "execution_count": null,
      "outputs": [
        {
          "output_type": "stream",
          "text": [
            "<class 'pandas.core.frame.DataFrame'>\n",
            "Int64Index: 48790 entries, 0 to 48841\n",
            "Data columns (total 15 columns):\n",
            " #   Column           Non-Null Count  Dtype \n",
            "---  ------           --------------  ----- \n",
            " 0   age              48790 non-null  int64 \n",
            " 1   workclass        48790 non-null  object\n",
            " 2   fnlwgt           48790 non-null  int64 \n",
            " 3   education        48790 non-null  object\n",
            " 4   educational-num  48790 non-null  int64 \n",
            " 5   marital-status   48790 non-null  object\n",
            " 6   occupation       48790 non-null  object\n",
            " 7   relationship     48790 non-null  object\n",
            " 8   race             48790 non-null  object\n",
            " 9   gender           48790 non-null  object\n",
            " 10  capital-gain     48790 non-null  int64 \n",
            " 11  capital-loss     48790 non-null  int64 \n",
            " 12  hours-per-week   48790 non-null  int64 \n",
            " 13  native-country   48790 non-null  object\n",
            " 14  income           48790 non-null  int64 \n",
            "dtypes: int64(7), object(8)\n",
            "memory usage: 6.0+ MB\n"
          ],
          "name": "stdout"
        }
      ]
    },
    {
      "cell_type": "markdown",
      "metadata": {
        "id": "0de85EJ4nibt"
      },
      "source": [
        "# Feature Engineering"
      ]
    },
    {
      "cell_type": "markdown",
      "metadata": {
        "id": "UikxxBBcupN6"
      },
      "source": [
        "### Orderd/Non-ordered Data "
      ]
    },
    {
      "cell_type": "markdown",
      "metadata": {
        "id": "7s8DHUE9jF8v"
      },
      "source": [
        "#### Eduction"
      ]
    },
    {
      "cell_type": "code",
      "metadata": {
        "colab": {
          "base_uri": "https://localhost:8080/"
        },
        "id": "CVr1qV0jlBZf",
        "outputId": "6b9798a5-8f1a-4344-f417-84ea8e3b4050"
      },
      "source": [
        "sns.countplot(y=\"education\", data=df)"
      ],
      "execution_count": null,
      "outputs": [
        {
          "output_type": "execute_result",
          "data": {
            "text/plain": [
              "<matplotlib.axes._subplots.AxesSubplot at 0x7f45e205fb10>"
            ]
          },
          "metadata": {
            "tags": []
          },
          "execution_count": 294
        },
        {
          "output_type": "display_data",
          "data": {
            "image/png": "[encoded data removed]",
            "text/plain": [
              "<Figure size 432x288 with 1 Axes>"
            ]
          },
          "metadata": {
            "tags": [],
            "needs_background": "light"
          }
        }
      ]
    },
    {
      "cell_type": "code",
      "metadata": {
        "colab": {
          "base_uri": "https://localhost:8080/"
        },
        "id": "_40AuI3GwLTd",
        "outputId": "d53102fd-3835-40da-d20e-d812e203111f"
      },
      "source": [
        "df.education.unique()"
      ],
      "execution_count": null,
      "outputs": [
        {
          "output_type": "execute_result",
          "data": {
            "text/plain": [
              "array(['11th', 'HS-grad', 'Assoc-acdm', 'Some-college', '10th',\n",
              "       'Prof-school', '7th-8th', 'Bachelors', 'Masters', 'Doctorate',\n",
              "       '5th-6th', 'Assoc-voc', '9th', '12th', '1st-4th', 'Preschool'],\n",
              "      dtype=object)"
            ]
          },
          "metadata": {
            "tags": []
          },
          "execution_count": 295
        }
      ]
    },
    {
      "cell_type": "markdown",
      "metadata": {
        "id": "R7HXicJEgFjJ"
      },
      "source": [
        "Not graduate, graduated, prof."
      ]
    },
    {
      "cell_type": "code",
      "metadata": {
        "id": "w50k1MZOuxgD"
      },
      "source": [
        "education_scale = { \n",
        "    'Preschool':'LowGrad',\n",
        "    '1st-4th':'LowGrad',\n",
        "    '5th-6th':'LowGrad',\n",
        "    '7th-8th':'LowGrad',  \n",
        "    '9th':'LowGrad',\n",
        "    '10th':'LowGrad',\n",
        "    '11th':'LowGrad',\n",
        "    '12th':'LowGrad', \n",
        "    'HS-grad':'MedGrad',\n",
        "    'Prof-school':'MedGrad', \n",
        "    'Assoc-acdm':'HighGrad', \n",
        "    'Assoc-voc':'HighGrad', \n",
        "    'Some-college':'HighGrad', \n",
        "    'Bachelors':'Bachelors', \n",
        "    'Masters':'Masters', \n",
        "    'Doctorate':'Doctorate'\n",
        "}\n",
        "df['education'] = df['education'] .apply(lambda x: education_scale[x])"
      ],
      "execution_count": null,
      "outputs": []
    },
    {
      "cell_type": "code",
      "metadata": {
        "colab": {
          "base_uri": "https://localhost:8080/"
        },
        "id": "E1JOKdUQjUHn",
        "outputId": "dc568aa6-6bd9-4c99-8267-6da1378b8033"
      },
      "source": [
        "sns.countplot(y=\"education\", data=df)"
      ],
      "execution_count": null,
      "outputs": [
        {
          "output_type": "execute_result",
          "data": {
            "text/plain": [
              "<matplotlib.axes._subplots.AxesSubplot at 0x7f45e3577ad0>"
            ]
          },
          "metadata": {
            "tags": []
          },
          "execution_count": 297
        },
        {
          "output_type": "display_data",
          "data": {
            "image/png": "[encoded data removed]",
            "text/plain": [
              "<Figure size 432x288 with 1 Axes>"
            ]
          },
          "metadata": {
            "tags": [],
            "needs_background": "light"
          }
        }
      ]
    },
    {
      "cell_type": "markdown",
      "metadata": {
        "id": "4F0lFxAgkjnA"
      },
      "source": [
        "#### marital-status"
      ]
    },
    {
      "cell_type": "markdown",
      "metadata": {
        "id": "U_GaDH5egPYj"
      },
      "source": [
        "not married becaues not ready, not enough income"
      ]
    },
    {
      "cell_type": "code",
      "metadata": {
        "colab": {
          "base_uri": "https://localhost:8080/"
        },
        "id": "N_ScMsd7lCyQ",
        "outputId": "35682060-f818-4e31-cd2c-f1a30a1efbe8"
      },
      "source": [
        "sns.countplot(y='marital-status', data=df)"
      ],
      "execution_count": null,
      "outputs": [
        {
          "output_type": "execute_result",
          "data": {
            "text/plain": [
              "<matplotlib.axes._subplots.AxesSubplot at 0x7f45e2231350>"
            ]
          },
          "metadata": {
            "tags": []
          },
          "execution_count": 298
        },
        {
          "output_type": "display_data",
          "data": {
            "image/png": "[encoded data removed]",
            "text/plain": [
              "<Figure size 432x288 with 1 Axes>"
            ]
          },
          "metadata": {
            "tags": [],
            "needs_background": "light"
          }
        }
      ]
    },
    {
      "cell_type": "code",
      "metadata": {
        "colab": {
          "base_uri": "https://localhost:8080/"
        },
        "id": "E6doziOokjnD",
        "outputId": "e48e4c59-b566-42b1-b996-0c649ac2bcef"
      },
      "source": [
        "df['marital-status'].unique()"
      ],
      "execution_count": null,
      "outputs": [
        {
          "output_type": "execute_result",
          "data": {
            "text/plain": [
              "array(['Never-married', 'Married-civ-spouse', 'Widowed', 'Divorced',\n",
              "       'Separated', 'Married-spouse-absent', 'Married-AF-spouse'],\n",
              "      dtype=object)"
            ]
          },
          "metadata": {
            "tags": []
          },
          "execution_count": 299
        }
      ]
    },
    {
      "cell_type": "code",
      "metadata": {
        "id": "JlBEEr4eZ1EI"
      },
      "source": [
        "# marital_scale = { \n",
        "#     'Never-married':'NotMarried',\n",
        "#     'Married-civ-spouse':'Married',\n",
        "#     'Widowed':'Married',\n",
        "#     'Divorced':'Married',  \n",
        "#     'Separated':'Married',\n",
        "#     'Married-spouse-absent':'Married',\n",
        "#     'Married-AF-spouse':'Married'\n",
        "# }\n",
        "# df['marital-status'] = df['marital-status'].apply(lambda x: marital_scale[x])"
      ],
      "execution_count": null,
      "outputs": []
    },
    {
      "cell_type": "code",
      "metadata": {
        "id": "kAfegCq8kjnE"
      },
      "source": [
        "marital_scale = { \n",
        "    'Never-married':'NotMarried',\n",
        "    'Married-civ-spouse':'Married',\n",
        "    'Widowed':'NotMarried',\n",
        "    'Divorced':'NotMarried',  \n",
        "    'Separated':'NotMarried',\n",
        "    'Married-spouse-absent':'NotMarried',\n",
        "    'Married-AF-spouse':'Married'\n",
        "}\n",
        "df['marital-status'] = df['marital-status'].apply(lambda x: marital_scale[x])"
      ],
      "execution_count": null,
      "outputs": []
    },
    {
      "cell_type": "code",
      "metadata": {
        "colab": {
          "base_uri": "https://localhost:8080/"
        },
        "id": "Yg7xhuYckjnE",
        "outputId": "864ba830-b9b2-48fa-e5f7-b071ce87978b"
      },
      "source": [
        "sns.countplot(y=\"marital-status\", data=df)"
      ],
      "execution_count": null,
      "outputs": [
        {
          "output_type": "execute_result",
          "data": {
            "text/plain": [
              "<matplotlib.axes._subplots.AxesSubplot at 0x7f45e3578450>"
            ]
          },
          "metadata": {
            "tags": []
          },
          "execution_count": 302
        },
        {
          "output_type": "display_data",
          "data": {
            "image/png": "[encoded data removed]",
            "text/plain": [
              "<Figure size 432x288 with 1 Axes>"
            ]
          },
          "metadata": {
            "tags": [],
            "needs_background": "light"
          }
        }
      ]
    },
    {
      "cell_type": "markdown",
      "metadata": {
        "id": "Ba1eMpLjmdun"
      },
      "source": [
        "#### occupation"
      ]
    },
    {
      "cell_type": "code",
      "metadata": {
        "id": "JMt5Xo9Dmdur",
        "colab": {
          "base_uri": "https://localhost:8080/"
        },
        "outputId": "258365ed-e585-4cc8-f289-890b464e3991"
      },
      "source": [
        "sns.countplot(y='occupation', data=df)"
      ],
      "execution_count": null,
      "outputs": [
        {
          "output_type": "execute_result",
          "data": {
            "text/plain": [
              "<matplotlib.axes._subplots.AxesSubplot at 0x7f45e1ea9a90>"
            ]
          },
          "metadata": {
            "tags": []
          },
          "execution_count": 303
        },
        {
          "output_type": "display_data",
          "data": {
            "image/png": "[encoded data removed]",
            "text/plain": [
              "<Figure size 432x288 with 1 Axes>"
            ]
          },
          "metadata": {
            "tags": [],
            "needs_background": "light"
          }
        }
      ]
    },
    {
      "cell_type": "code",
      "metadata": {
        "id": "CgrgTG-Cmdus",
        "colab": {
          "base_uri": "https://localhost:8080/"
        },
        "outputId": "e5969caf-3293-4a1b-a15f-0180c14bc9f1"
      },
      "source": [
        "df['occupation'].unique()"
      ],
      "execution_count": null,
      "outputs": [
        {
          "output_type": "execute_result",
          "data": {
            "text/plain": [
              "array(['Machine-op-inspct', 'Farming-fishing', 'Protective-serv',\n",
              "       'Prof-specialty', 'Other-service', 'Craft-repair', 'Adm-clerical',\n",
              "       'Exec-managerial', 'Tech-support', 'Sales', 'Priv-house-serv',\n",
              "       'Transport-moving', 'Handlers-cleaners', 'Armed-Forces'],\n",
              "      dtype=object)"
            ]
          },
          "metadata": {
            "tags": []
          },
          "execution_count": 304
        }
      ]
    },
    {
      "cell_type": "code",
      "metadata": {
        "id": "IldwjGcumdus"
      },
      "source": [
        "# occupation_scale = { \n",
        "#     'Machine-op-inspct':'eng',\n",
        "#     'Farming-fishing':'selfs',\n",
        "#     'Protective-serv':'service',\n",
        "#     'Prof-specialty':'Prof-specialty',  \n",
        "#     'Other-service':'service',\n",
        "#     'Craft-repair':'Craft-repair',\n",
        "#     'Adm-clerical':'Adm-clerical',\n",
        "#     'Exec-managerial':'Exec-managerial',\n",
        "#     'Tech-support':'eng',\n",
        "#     'Sales':'Sales',\n",
        "#     'Priv-house-serv':'service',  \n",
        "#     'Transport-moving':'selfs',\n",
        "#     'Handlers-cleaners':'service',\n",
        "#     'Armed-Forces':'Armed-Forces',\n",
        "# }\n",
        "\n",
        "# df['occupation'] = df['occupation'].apply(lambda x: occupation_scale[x])"
      ],
      "execution_count": null,
      "outputs": []
    },
    {
      "cell_type": "code",
      "metadata": {
        "id": "Fg-I-lHWmdus"
      },
      "source": [
        "# sns.countplot(y=\"occupation\", data=df)"
      ],
      "execution_count": null,
      "outputs": []
    },
    {
      "cell_type": "markdown",
      "metadata": {
        "id": "4AH05moYpAFV"
      },
      "source": [
        "#### Workclass"
      ]
    },
    {
      "cell_type": "code",
      "metadata": {
        "colab": {
          "base_uri": "https://localhost:8080/"
        },
        "id": "KgeE98ClpAFZ",
        "outputId": "27131887-1989-4cb4-9622-767370d2d589"
      },
      "source": [
        "sns.countplot(y='workclass', data=df)"
      ],
      "execution_count": null,
      "outputs": [
        {
          "output_type": "execute_result",
          "data": {
            "text/plain": [
              "<matplotlib.axes._subplots.AxesSubplot at 0x7f45e1fff890>"
            ]
          },
          "metadata": {
            "tags": []
          },
          "execution_count": 307
        },
        {
          "output_type": "display_data",
          "data": {
            "image/png": "[encoded data removed]",
            "text/plain": [
              "<Figure size 432x288 with 1 Axes>"
            ]
          },
          "metadata": {
            "tags": [],
            "needs_background": "light"
          }
        }
      ]
    },
    {
      "cell_type": "markdown",
      "metadata": {
        "id": "_-cRSoJjpfhO"
      },
      "source": [
        "#### hours-per-week"
      ]
    },
    {
      "cell_type": "code",
      "metadata": {
        "colab": {
          "base_uri": "https://localhost:8080/"
        },
        "id": "vPGJHzbmpfhR",
        "outputId": "b966142e-123a-4280-adbe-aa6107ab15cf"
      },
      "source": [
        "sns.countplot(y='hours-per-week', data=df)"
      ],
      "execution_count": null,
      "outputs": [
        {
          "output_type": "execute_result",
          "data": {
            "text/plain": [
              "<matplotlib.axes._subplots.AxesSubplot at 0x7f45e2041750>"
            ]
          },
          "metadata": {
            "tags": []
          },
          "execution_count": 308
        },
        {
          "output_type": "display_data",
          "data": {
            "image/png": "[encoded data removed]",
            "text/plain": [
              "<Figure size 432x288 with 1 Axes>"
            ]
          },
          "metadata": {
            "tags": [],
            "needs_background": "light"
          }
        }
      ]
    },
    {
      "cell_type": "code",
      "metadata": {
        "colab": {
          "base_uri": "https://localhost:8080/"
        },
        "id": "Gx5N5o2ppfhS",
        "outputId": "c0e2ce8f-514e-4c9d-d757-8afc86be6ea0"
      },
      "source": [
        "df['hours-per-week_bin'] = pd.cut(df['hours-per-week'], 10)\n",
        "# df['hours-per-week'] = df['hours-per-week'] \n",
        "\n",
        "sns.countplot(y=\"hours-per-week_bin\", data=df);"
      ],
      "execution_count": null,
      "outputs": [
        {
          "output_type": "display_data",
          "data": {
            "image/png": "[encoded data removed]",
            "text/plain": [
              "<Figure size 432x288 with 1 Axes>"
            ]
          },
          "metadata": {
            "tags": [],
            "needs_background": "light"
          }
        }
      ]
    },
    {
      "cell_type": "markdown",
      "metadata": {
        "id": "aAAPXBEmvZQT"
      },
      "source": [
        "#### native-country"
      ]
    },
    {
      "cell_type": "code",
      "metadata": {
        "colab": {
          "base_uri": "https://localhost:8080/"
        },
        "id": "AC9HTYVyvcCm",
        "outputId": "9f7d23c7-816b-46cf-859f-22fd476006aa"
      },
      "source": [
        "sns.countplot(y='native-country', data=df)"
      ],
      "execution_count": null,
      "outputs": [
        {
          "output_type": "execute_result",
          "data": {
            "text/plain": [
              "<matplotlib.axes._subplots.AxesSubplot at 0x7f45e2095150>"
            ]
          },
          "metadata": {
            "tags": []
          },
          "execution_count": 310
        },
        {
          "output_type": "display_data",
          "data": {
            "image/png": "[encoded data removed]",
            "text/plain": [
              "<Figure size 432x288 with 1 Axes>"
            ]
          },
          "metadata": {
            "tags": [],
            "needs_background": "light"
          }
        }
      ]
    },
    {
      "cell_type": "code",
      "metadata": {
        "id": "9xzmvh7Y0cF8"
      },
      "source": [
        "df.drop('native-country', axis=1, inplace=True)"
      ],
      "execution_count": null,
      "outputs": []
    },
    {
      "cell_type": "markdown",
      "metadata": {
        "id": "gEX8jP-S_P7r"
      },
      "source": [
        "#### age\n"
      ]
    },
    {
      "cell_type": "code",
      "metadata": {
        "id": "DUV-3EGw_S6H"
      },
      "source": [
        "df['age_bin'] = pd.cut(df['age'], 20)"
      ],
      "execution_count": null,
      "outputs": []
    },
    {
      "cell_type": "code",
      "metadata": {
        "colab": {
          "base_uri": "https://localhost:8080/"
        },
        "id": "R7OE7YO__WVP",
        "outputId": "0c522c81-328f-43c6-fea1-86c266dbcb2f"
      },
      "source": [
        "sns.countplot(y='age_bin', data=df)"
      ],
      "execution_count": null,
      "outputs": [
        {
          "output_type": "execute_result",
          "data": {
            "text/plain": [
              "<matplotlib.axes._subplots.AxesSubplot at 0x7f45e2384dd0>"
            ]
          },
          "metadata": {
            "tags": []
          },
          "execution_count": 313
        },
        {
          "output_type": "display_data",
          "data": {
            "image/png": "[encoded data removed]",
            "text/plain": [
              "<Figure size 432x288 with 1 Axes>"
            ]
          },
          "metadata": {
            "tags": [],
            "needs_background": "light"
          }
        }
      ]
    },
    {
      "cell_type": "markdown",
      "metadata": {
        "id": "0Ogp1WDfhaUO"
      },
      "source": [
        "### Crossing feature"
      ]
    },
    {
      "cell_type": "markdown",
      "metadata": {
        "id": "AHlUbxz3lGLD"
      },
      "source": [
        "capital"
      ]
    },
    {
      "cell_type": "code",
      "metadata": {
        "colab": {
          "base_uri": "https://localhost:8080/"
        },
        "id": "sJcrxSXqlpuI",
        "outputId": "7d1b0311-baf6-4233-8b91-be0a5f22dbbe"
      },
      "source": [
        "sns.scatterplot(df.index, df['capital-gain'])"
      ],
      "execution_count": null,
      "outputs": [
        {
          "output_type": "stream",
          "text": [
            "/usr/local/lib/python3.7/dist-packages/seaborn/_decorators.py:43: FutureWarning: Pass the following variables as keyword args: x, y. From version 0.12, the only valid positional argument will be `data`, and passing other arguments without an explicit keyword will result in an error or misinterpretation.\n",
            "  FutureWarning\n"
          ],
          "name": "stderr"
        },
        {
          "output_type": "execute_result",
          "data": {
            "text/plain": [
              "<matplotlib.axes._subplots.AxesSubplot at 0x7f45e2374590>"
            ]
          },
          "metadata": {
            "tags": []
          },
          "execution_count": 314
        },
        {
          "output_type": "display_data",
          "data": {
            "image/png": "[encoded data removed]",
            "text/plain": [
              "<Figure size 432x288 with 1 Axes>"
            ]
          },
          "metadata": {
            "tags": [],
            "needs_background": "light"
          }
        }
      ]
    },
    {
      "cell_type": "code",
      "metadata": {
        "colab": {
          "base_uri": "https://localhost:8080/"
        },
        "id": "z7MNk2XVlyIo",
        "outputId": "0542853c-c678-4f87-afdf-328093d019fa"
      },
      "source": [
        "sns.scatterplot(df.index, df['capital-loss'])"
      ],
      "execution_count": null,
      "outputs": [
        {
          "output_type": "stream",
          "text": [
            "/usr/local/lib/python3.7/dist-packages/seaborn/_decorators.py:43: FutureWarning: Pass the following variables as keyword args: x, y. From version 0.12, the only valid positional argument will be `data`, and passing other arguments without an explicit keyword will result in an error or misinterpretation.\n",
            "  FutureWarning\n"
          ],
          "name": "stderr"
        },
        {
          "output_type": "execute_result",
          "data": {
            "text/plain": [
              "<matplotlib.axes._subplots.AxesSubplot at 0x7f45e1c9ff90>"
            ]
          },
          "metadata": {
            "tags": []
          },
          "execution_count": 315
        },
        {
          "output_type": "display_data",
          "data": {
            "image/png": "[encoded data removed]",
            "text/plain": [
              "<Figure size 432x288 with 1 Axes>"
            ]
          },
          "metadata": {
            "tags": [],
            "needs_background": "light"
          }
        }
      ]
    },
    {
      "cell_type": "code",
      "metadata": {
        "id": "yogC32SXma-q"
      },
      "source": [
        "df['capital-gain'] = df['capital-gain']+1\n",
        "df['capital-loss'] = df['capital-loss']+1"
      ],
      "execution_count": null,
      "outputs": []
    },
    {
      "cell_type": "code",
      "metadata": {
        "colab": {
          "base_uri": "https://localhost:8080/"
        },
        "id": "bFhioEI9lIhF",
        "outputId": "0dca7ef9-def0-4501-ae22-3e9f933e4024"
      },
      "source": [
        "df['capital-ratio'] = df['capital-gain']/df['capital-loss']\n",
        "df['capital-ratio-bins'] = pd.qcut(df['capital-ratio'].rank(method='first'), 5)\n",
        "\n",
        "sns.scatterplot(df.index, df['capital-ratio'])"
      ],
      "execution_count": null,
      "outputs": [
        {
          "output_type": "stream",
          "text": [
            "/usr/local/lib/python3.7/dist-packages/seaborn/_decorators.py:43: FutureWarning: Pass the following variables as keyword args: x, y. From version 0.12, the only valid positional argument will be `data`, and passing other arguments without an explicit keyword will result in an error or misinterpretation.\n",
            "  FutureWarning\n"
          ],
          "name": "stderr"
        },
        {
          "output_type": "execute_result",
          "data": {
            "text/plain": [
              "<matplotlib.axes._subplots.AxesSubplot at 0x7f45e1c09d10>"
            ]
          },
          "metadata": {
            "tags": []
          },
          "execution_count": 317
        },
        {
          "output_type": "display_data",
          "data": {
            "image/png": "[encoded data removed]",
            "text/plain": [
              "<Figure size 432x288 with 1 Axes>"
            ]
          },
          "metadata": {
            "tags": [],
            "needs_background": "light"
          }
        }
      ]
    },
    {
      "cell_type": "code",
      "metadata": {
        "colab": {
          "base_uri": "https://localhost:8080/"
        },
        "id": "z52ssxKXpoOz",
        "outputId": "b380d954-1f9c-479c-e4ad-3f4f989dcee5"
      },
      "source": [
        "\n",
        "df['capital-ratio-bins'].value_counts(sort=False).plot.bar(rot=0, color=\"b\", figsize=(20,8))"
      ],
      "execution_count": null,
      "outputs": [
        {
          "output_type": "execute_result",
          "data": {
            "text/plain": [
              "<matplotlib.axes._subplots.AxesSubplot at 0x7f45e1c03290>"
            ]
          },
          "metadata": {
            "tags": []
          },
          "execution_count": 318
        },
        {
          "output_type": "display_data",
          "data": {
            "image/png": "[encoded data removed]",
            "text/plain": [
              "<Figure size 1440x576 with 1 Axes>"
            ]
          },
          "metadata": {
            "tags": [],
            "needs_background": "light"
          }
        }
      ]
    },
    {
      "cell_type": "markdown",
      "metadata": {
        "id": "4V-wrCVLjqOT"
      },
      "source": [
        "Age & hours-per-week"
      ]
    },
    {
      "cell_type": "code",
      "metadata": {
        "id": "cFCDJQpShelm"
      },
      "source": [
        "df['age-hours'] = df['age']*df['hours-per-week']\n",
        "df['age-hours-bin']  = pd.cut(df['age-hours'], 10)"
      ],
      "execution_count": null,
      "outputs": []
    },
    {
      "cell_type": "code",
      "metadata": {
        "colab": {
          "base_uri": "https://localhost:8080/"
        },
        "id": "_w2Bjgsgd4n4",
        "outputId": "5d4ca6c7-4a30-4b12-d6f1-701ec1fdf9bd"
      },
      "source": [
        "df['age-hours-bin'].value_counts(sort=False).plot.bar(rot=0, color=\"b\", figsize=(20,8))"
      ],
      "execution_count": null,
      "outputs": [
        {
          "output_type": "execute_result",
          "data": {
            "text/plain": [
              "<matplotlib.axes._subplots.AxesSubplot at 0x7f45e1b47ed0>"
            ]
          },
          "metadata": {
            "tags": []
          },
          "execution_count": 320
        },
        {
          "output_type": "display_data",
          "data": {
            "image/png": "[encoded data removed]",
            "text/plain": [
              "<Figure size 1440x576 with 1 Axes>"
            ]
          },
          "metadata": {
            "tags": [],
            "needs_background": "light"
          }
        }
      ]
    },
    {
      "cell_type": "markdown",
      "metadata": {
        "id": "652Gd925zIM_"
      },
      "source": [
        "# Converting Categorical Features"
      ]
    },
    {
      "cell_type": "code",
      "metadata": {
        "id": "vFWy7utMs6j5"
      },
      "source": [
        "list_feature_cate= ['workclass', 'education',  'marital-status', 'occupation', 'relationship', 'race', 'gender', 'hours-per-week_bin', 'age_bin', 'age-hours-bin', 'capital-ratio-bins']"
      ],
      "execution_count": null,
      "outputs": []
    },
    {
      "cell_type": "code",
      "metadata": {
        "colab": {
          "base_uri": "https://localhost:8080/",
          "height": 889
        },
        "id": "21i4x8Lj_9Hw",
        "outputId": "699ae31d-cc23-40fc-c754-1dc9baaf1c4c"
      },
      "source": [
        "\n",
        "df.loc[df['income'] == 1, 'predclass'] =  '>50K'\n",
        "df.loc[df['income'] == 0, 'predclass'] =  '<=50K'\n",
        "def plot_bivariate_bar(dataset, hue, cols=5, width=20, height=15, hspace=0.2, wspace=0.5):\n",
        "    dataset = dataset.select_dtypes(include=[np.object])\n",
        "    plt.style.use('seaborn-whitegrid')\n",
        "    fig = plt.figure(figsize=(width,height))\n",
        "    fig.subplots_adjust(left=None, bottom=None, right=None, top=None, wspace=wspace, hspace=hspace)\n",
        "    rows = math.ceil(float(dataset.shape[1]) / cols)\n",
        "    for i, column in enumerate(dataset.columns):\n",
        "        ax = fig.add_subplot(rows, cols, i + 1)\n",
        "        ax.set_title(column)\n",
        "        if dataset.dtypes[column] == np.object:\n",
        "            g = sns.countplot(y=column, hue=hue, data=dataset)\n",
        "            substrings = [s.get_text()[:10] for s in g.get_yticklabels()]\n",
        "            g.set(yticklabels=substrings)\n",
        "            \n",
        "bivariate_df = df.loc[:, ['workclass', 'education',  'marital-status', 'occupation', 'relationship', 'race', 'gender', 'hours-per-week_bin', 'age_bin', 'age-hours-bin', 'capital-ratio-bins', 'predclass']]  \n",
        "\n",
        "plot_bivariate_bar(bivariate_df, hue='predclass', cols=2, width=20, height=15, hspace=0.4, wspace=0.5)\n",
        "df.drop(['predclass'],axis=1, inplace=True)"
      ],
      "execution_count": null,
      "outputs": [
        {
          "output_type": "display_data",
          "data": {
            "image/png": "[encoded data removed]",
            "text/plain": [
              "<Figure size 1440x1080 with 8 Axes>"
            ]
          },
          "metadata": {
            "tags": []
          }
        }
      ]
    },
    {
      "cell_type": "code",
      "metadata": {
        "id": "RLZ-ShYlzJ5c"
      },
      "source": [
        "for col in list_feature_cate:\n",
        "    df_dummy = pd.get_dummies(df[col], drop_first=True)\n",
        "    df.drop([col], axis=1, inplace=True)\n",
        "    df = pd.concat([df, df_dummy], axis=1)\n"
      ],
      "execution_count": null,
      "outputs": []
    },
    {
      "cell_type": "markdown",
      "metadata": {
        "id": "doXqS_d9-_SY"
      },
      "source": [
        "# Featrue Selection"
      ]
    },
    {
      "cell_type": "markdown",
      "metadata": {
        "id": "YOD08Sux5wjh"
      },
      "source": [
        "### Numeric"
      ]
    },
    {
      "cell_type": "code",
      "metadata": {
        "colab": {
          "base_uri": "https://localhost:8080/"
        },
        "id": "_XpU94NPY52e",
        "outputId": "e68fc8e4-e94f-4432-e444-6492be9e3a04"
      },
      "source": [
        "# X = df.drop('income',axis=1)\n",
        "X = df[list_feature_num]\n",
        "y = df.income\n",
        "model = LogisticRegression()\n",
        "sfs1 = SFS(model, \n",
        "           k_features=(1, len(X.columns) ), \n",
        "           forward=True, \n",
        "           floating=False, \n",
        "           verbose=2,\n",
        "           n_jobs=-1,\n",
        "           scoring='accuracy',\n",
        "           cv=5)\n",
        "pipe = make_pipeline(sfs1)\n",
        "pipe.fit(X, y)"
      ],
      "execution_count": null,
      "outputs": [
        {
          "output_type": "stream",
          "text": [
            "[Parallel(n_jobs=-1)]: Using backend LokyBackend with 2 concurrent workers.\n",
            "[Parallel(n_jobs=-1)]: Done   6 out of   6 | elapsed:    3.6s finished\n",
            "\n",
            "[2021-03-23 14:06:00] Features: 1/6 -- score: 0.7998975199836031[Parallel(n_jobs=-1)]: Using backend LokyBackend with 2 concurrent workers.\n",
            "[Parallel(n_jobs=-1)]: Done   5 out of   5 | elapsed:    3.8s remaining:    0.0s\n",
            "[Parallel(n_jobs=-1)]: Done   5 out of   5 | elapsed:    3.8s finished\n",
            "\n",
            "[2021-03-23 14:06:03] Features: 2/6 -- score: 0.813178930108629[Parallel(n_jobs=-1)]: Using backend LokyBackend with 2 concurrent workers.\n",
            "[Parallel(n_jobs=-1)]: Done   4 out of   4 | elapsed:    3.1s remaining:    0.0s\n",
            "[Parallel(n_jobs=-1)]: Done   4 out of   4 | elapsed:    3.1s finished\n",
            "\n",
            "[2021-03-23 14:06:07] Features: 3/6 -- score: 0.8113547858167658[Parallel(n_jobs=-1)]: Using backend LokyBackend with 2 concurrent workers.\n",
            "[Parallel(n_jobs=-1)]: Done   3 out of   3 | elapsed:    3.3s finished\n",
            "\n",
            "[2021-03-23 14:06:10] Features: 4/6 -- score: 0.8114777618364419[Parallel(n_jobs=-1)]: Using backend LokyBackend with 2 concurrent workers.\n",
            "[Parallel(n_jobs=-1)]: Done   2 out of   2 | elapsed:    2.8s finished\n",
            "\n",
            "[2021-03-23 14:06:13] Features: 5/6 -- score: 0.8141422422627587[Parallel(n_jobs=-1)]: Using backend LokyBackend with 2 concurrent workers.\n",
            "[Parallel(n_jobs=-1)]: Done   1 out of   1 | elapsed:    1.6s finished\n",
            "\n",
            "[2021-03-23 14:06:15] Features: 6/6 -- score: 0.7977659356425497"
          ],
          "name": "stderr"
        },
        {
          "output_type": "execute_result",
          "data": {
            "text/plain": [
              "Pipeline(memory=None,\n",
              "         steps=[('sequentialfeatureselector',\n",
              "                 SequentialFeatureSelector(clone_estimator=True, cv=5,\n",
              "                                           estimator=LogisticRegression(C=1.0,\n",
              "                                                                        class_weight=None,\n",
              "                                                                        dual=False,\n",
              "                                                                        fit_intercept=True,\n",
              "                                                                        intercept_scaling=1,\n",
              "                                                                        l1_ratio=None,\n",
              "                                                                        max_iter=100,\n",
              "                                                                        multi_class='auto',\n",
              "                                                                        n_jobs=None,\n",
              "                                                                        penalty='l2',\n",
              "                                                                        random_state=None,\n",
              "                                                                        solver='lbfgs',\n",
              "                                                                        tol=0.0001,\n",
              "                                                                        verbose=0,\n",
              "                                                                        warm_start=False),\n",
              "                                           floating=False, forward=True,\n",
              "                                           k_features=(1, 6), n_jobs=-1,\n",
              "                                           pre_dispatch='2*n_jobs',\n",
              "                                           scoring='accuracy', verbose=2))],\n",
              "         verbose=False)"
            ]
          },
          "metadata": {
            "tags": []
          },
          "execution_count": 268
        }
      ]
    },
    {
      "cell_type": "code",
      "metadata": {
        "colab": {
          "base_uri": "https://localhost:8080/"
        },
        "id": "ZC-M7uay5_pm",
        "outputId": "adad0bde-9da8-4682-ebfa-6d320988498b"
      },
      "source": [
        "print('best combination (ACC: %.3f): %s\\n' % (sfs1.k_score_, sfs1.k_feature_idx_))\n",
        "\n",
        "\n",
        "feature_selected = [X.columns[i] for i in sfs1.k_feature_idx_]\n",
        "print('best feature', feature_selected)\n",
        "\n",
        "list_feature_drop = [item for item in X.columns if item not in feature_selected]\n",
        "df.drop(list_feature_drop, axis=1, inplace=True)"
      ],
      "execution_count": null,
      "outputs": [
        {
          "output_type": "stream",
          "text": [
            "best combination (ACC: 0.814): (0, 2, 3, 4, 5)\n",
            "\n",
            "best feature ['age', 'educational-num', 'capital-gain', 'capital-loss', 'hours-per-week']\n"
          ],
          "name": "stdout"
        }
      ]
    },
    {
      "cell_type": "markdown",
      "metadata": {
        "id": "pMjuQaEs50qu"
      },
      "source": [
        "### Category"
      ]
    },
    {
      "cell_type": "code",
      "metadata": {
        "colab": {
          "base_uri": "https://localhost:8080/"
        },
        "id": "H81nGU8TKsZs",
        "outputId": "0fd059da-0466-4c33-bddb-bc893aa63fa0"
      },
      "source": [
        "X = df.drop('income',axis=1)\n",
        "# X = df[list_feature_cate]\n",
        "y = df.income\n",
        "model = LogisticRegression()\n",
        "sfs1 = SFS(model, \n",
        "           k_features=(1, len(X.columns) ), \n",
        "           forward=True, \n",
        "           floating=False, \n",
        "           verbose=2,\n",
        "           n_jobs=-1,\n",
        "           scoring='accuracy',\n",
        "           cv=5)\n",
        "pipe = make_pipeline(sfs1)\n",
        "pipe.fit(X, y)\n"
      ],
      "execution_count": null,
      "outputs": [
        {
          "output_type": "stream",
          "text": [
            "[Parallel(n_jobs=-1)]: Using backend LokyBackend with 2 concurrent workers.\n",
            "[Parallel(n_jobs=-1)]: Done  37 tasks      | elapsed:    9.1s\n",
            "[Parallel(n_jobs=-1)]: Done  84 out of  84 | elapsed:   18.5s finished\n",
            "\n",
            "[2021-03-23 14:06:33] Features: 1/84 -- score: 0.7998975199836031[Parallel(n_jobs=-1)]: Using backend LokyBackend with 2 concurrent workers.\n",
            "[Parallel(n_jobs=-1)]: Done  37 tasks      | elapsed:   26.6s\n",
            "[Parallel(n_jobs=-1)]: Done  83 out of  83 | elapsed:   55.9s finished\n",
            "\n",
            "[2021-03-23 14:07:29] Features: 2/84 -- score: 0.813178930108629[Parallel(n_jobs=-1)]: Using backend LokyBackend with 2 concurrent workers.\n",
            "[Parallel(n_jobs=-1)]: Done  37 tasks      | elapsed:   30.8s\n",
            "[Parallel(n_jobs=-1)]: Done  82 out of  82 | elapsed:  1.1min finished\n",
            "\n",
            "[2021-03-23 14:08:35] Features: 3/84 -- score: 0.8142857142857144[Parallel(n_jobs=-1)]: Using backend LokyBackend with 2 concurrent workers.\n",
            "[Parallel(n_jobs=-1)]: Done  37 tasks      | elapsed:   37.8s\n",
            "[Parallel(n_jobs=-1)]: Done  81 out of  81 | elapsed:  1.3min finished\n",
            "\n",
            "[2021-03-23 14:09:54] Features: 4/84 -- score: 0.8147776183644189[Parallel(n_jobs=-1)]: Using backend LokyBackend with 2 concurrent workers.\n",
            "[Parallel(n_jobs=-1)]: Done  37 tasks      | elapsed:   41.1s\n",
            "[Parallel(n_jobs=-1)]: Done  80 out of  80 | elapsed:  1.5min finished\n",
            "\n",
            "[2021-03-23 14:11:24] Features: 5/84 -- score: 0.8149005943840951[Parallel(n_jobs=-1)]: Using backend LokyBackend with 2 concurrent workers.\n",
            "[Parallel(n_jobs=-1)]: Done  37 tasks      | elapsed:   44.0s\n",
            "[Parallel(n_jobs=-1)]: Done  79 out of  79 | elapsed:  1.5min finished\n",
            "\n",
            "[2021-03-23 14:12:56] Features: 6/84 -- score: 0.8149620823939332[Parallel(n_jobs=-1)]: Using backend LokyBackend with 2 concurrent workers.\n",
            "[Parallel(n_jobs=-1)]: Done  37 tasks      | elapsed:   57.8s\n",
            "[Parallel(n_jobs=-1)]: Done  78 out of  78 | elapsed:  1.9min finished\n",
            "\n",
            "[2021-03-23 14:14:51] Features: 7/84 -- score: 0.8153720024595204[Parallel(n_jobs=-1)]: Using backend LokyBackend with 2 concurrent workers.\n",
            "[Parallel(n_jobs=-1)]: Done  37 tasks      | elapsed:   53.2s\n",
            "[Parallel(n_jobs=-1)]: Done  77 out of  77 | elapsed:  1.8min finished\n",
            "\n",
            "[2021-03-23 14:16:39] Features: 8/84 -- score: 0.8154539864726378[Parallel(n_jobs=-1)]: Using backend LokyBackend with 2 concurrent workers.\n",
            "[Parallel(n_jobs=-1)]: Done  37 tasks      | elapsed:   58.0s\n",
            "[Parallel(n_jobs=-1)]: Done  76 out of  76 | elapsed:  2.0min finished\n",
            "\n",
            "[2021-03-23 14:18:37] Features: 9/84 -- score: 0.8154539864726378[Parallel(n_jobs=-1)]: Using backend LokyBackend with 2 concurrent workers.\n",
            "[Parallel(n_jobs=-1)]: Done  37 tasks      | elapsed:   58.5s\n",
            "[Parallel(n_jobs=-1)]: Done  75 out of  75 | elapsed:  2.0min finished\n",
            "\n",
            "[2021-03-23 14:20:35] Features: 10/84 -- score: 0.8154539864726378[Parallel(n_jobs=-1)]: Using backend LokyBackend with 2 concurrent workers.\n",
            "[Parallel(n_jobs=-1)]: Done  37 tasks      | elapsed:  1.0min\n",
            "[Parallel(n_jobs=-1)]: Done  74 out of  74 | elapsed:  2.0min finished\n",
            "\n",
            "[2021-03-23 14:22:35] Features: 11/84 -- score: 0.8154539864726378[Parallel(n_jobs=-1)]: Using backend LokyBackend with 2 concurrent workers.\n",
            "[Parallel(n_jobs=-1)]: Done  37 tasks      | elapsed:   55.6s\n",
            "[Parallel(n_jobs=-1)]: Done  73 out of  73 | elapsed:  1.8min finished\n",
            "\n",
            "[2021-03-23 14:24:24] Features: 12/84 -- score: 0.8154539864726378[Parallel(n_jobs=-1)]: Using backend LokyBackend with 2 concurrent workers.\n",
            "[Parallel(n_jobs=-1)]: Done  37 tasks      | elapsed:  1.0min\n",
            "[Parallel(n_jobs=-1)]: Done  72 out of  72 | elapsed:  2.0min finished\n",
            "\n",
            "[2021-03-23 14:26:22] Features: 13/84 -- score: 0.8154539864726378[Parallel(n_jobs=-1)]: Using backend LokyBackend with 2 concurrent workers.\n",
            "[Parallel(n_jobs=-1)]: Done  37 tasks      | elapsed:  1.0min\n",
            "[Parallel(n_jobs=-1)]: Done  71 out of  71 | elapsed:  2.0min finished\n",
            "\n",
            "[2021-03-23 14:28:20] Features: 14/84 -- score: 0.8154539864726378[Parallel(n_jobs=-1)]: Using backend LokyBackend with 2 concurrent workers.\n",
            "[Parallel(n_jobs=-1)]: Done  37 tasks      | elapsed:  1.1min\n",
            "[Parallel(n_jobs=-1)]: Done  70 out of  70 | elapsed:  2.0min finished\n",
            "\n",
            "[2021-03-23 14:30:20] Features: 15/84 -- score: 0.8154539864726378[Parallel(n_jobs=-1)]: Using backend LokyBackend with 2 concurrent workers.\n",
            "[Parallel(n_jobs=-1)]: Done  37 tasks      | elapsed:   58.1s\n",
            "[Parallel(n_jobs=-1)]: Done  69 out of  69 | elapsed:  1.8min finished\n",
            "\n",
            "[2021-03-23 14:32:06] Features: 16/84 -- score: 0.8154129944660792[Parallel(n_jobs=-1)]: Using backend LokyBackend with 2 concurrent workers.\n",
            "[Parallel(n_jobs=-1)]: Done  37 tasks      | elapsed:  1.1min\n",
            "[Parallel(n_jobs=-1)]: Done  68 out of  68 | elapsed:  2.0min finished\n",
            "\n",
            "[2021-03-23 14:34:04] Features: 17/84 -- score: 0.8149620823939332[Parallel(n_jobs=-1)]: Using backend LokyBackend with 2 concurrent workers.\n",
            "[Parallel(n_jobs=-1)]: Done  37 tasks      | elapsed:  1.1min\n",
            "[Parallel(n_jobs=-1)]: Done  67 out of  67 | elapsed:  2.0min finished\n",
            "\n",
            "[2021-03-23 14:36:02] Features: 18/84 -- score: 0.8149825783972124[Parallel(n_jobs=-1)]: Using backend LokyBackend with 2 concurrent workers.\n",
            "[Parallel(n_jobs=-1)]: Done  37 tasks      | elapsed:  1.1min\n",
            "[Parallel(n_jobs=-1)]: Done  66 out of  66 | elapsed:  2.0min finished\n",
            "\n",
            "[2021-03-23 14:38:02] Features: 19/84 -- score: 0.8149005943840951[Parallel(n_jobs=-1)]: Using backend LokyBackend with 2 concurrent workers.\n",
            "[Parallel(n_jobs=-1)]: Done  37 tasks      | elapsed:  1.0min\n",
            "[Parallel(n_jobs=-1)]: Done  65 out of  65 | elapsed:  1.8min finished\n",
            "\n",
            "[2021-03-23 14:39:49] Features: 20/84 -- score: 0.8149415863906538[Parallel(n_jobs=-1)]: Using backend LokyBackend with 2 concurrent workers.\n",
            "[Parallel(n_jobs=-1)]: Done  37 tasks      | elapsed:  1.1min\n",
            "[Parallel(n_jobs=-1)]: Done  64 out of  64 | elapsed:  1.9min finished\n",
            "\n",
            "[2021-03-23 14:41:45] Features: 21/84 -- score: 0.8154539864726378[Parallel(n_jobs=-1)]: Using backend LokyBackend with 2 concurrent workers.\n",
            "[Parallel(n_jobs=-1)]: Done  37 tasks      | elapsed:  1.2min\n",
            "[Parallel(n_jobs=-1)]: Done  63 out of  63 | elapsed:  2.0min finished\n",
            "\n",
            "[2021-03-23 14:43:46] Features: 22/84 -- score: 0.8153105144496824[Parallel(n_jobs=-1)]: Using backend LokyBackend with 2 concurrent workers.\n",
            "[Parallel(n_jobs=-1)]: Done  37 tasks      | elapsed:  1.2min\n",
            "[Parallel(n_jobs=-1)]: Done  62 out of  62 | elapsed:  2.0min finished\n",
            "\n",
            "[2021-03-23 14:45:48] Features: 23/84 -- score: 0.8147981143676983[Parallel(n_jobs=-1)]: Using backend LokyBackend with 2 concurrent workers.\n",
            "[Parallel(n_jobs=-1)]: Done  37 tasks      | elapsed:  1.1min\n",
            "[Parallel(n_jobs=-1)]: Done  61 out of  61 | elapsed:  1.8min finished\n",
            "\n",
            "[2021-03-23 14:47:34] Features: 24/84 -- score: 0.8144906743185081[Parallel(n_jobs=-1)]: Using backend LokyBackend with 2 concurrent workers.\n",
            "[Parallel(n_jobs=-1)]: Done  37 tasks      | elapsed:  1.3min\n",
            "[Parallel(n_jobs=-1)]: Done  60 out of  60 | elapsed:  2.1min finished\n",
            "\n",
            "[2021-03-23 14:49:39] Features: 25/84 -- score: 0.8143062102889937[Parallel(n_jobs=-1)]: Using backend LokyBackend with 2 concurrent workers.\n",
            "[Parallel(n_jobs=-1)]: Done  37 tasks      | elapsed:  1.3min\n",
            "[Parallel(n_jobs=-1)]: Done  59 out of  59 | elapsed:  2.0min finished\n",
            "\n",
            "[2021-03-23 14:51:41] Features: 26/84 -- score: 0.8148186103709776[Parallel(n_jobs=-1)]: Using backend LokyBackend with 2 concurrent workers.\n",
            "[Parallel(n_jobs=-1)]: Done  37 tasks      | elapsed:  1.3min\n",
            "[Parallel(n_jobs=-1)]: Done  58 out of  58 | elapsed:  2.0min finished\n",
            "\n",
            "[2021-03-23 14:53:43] Features: 27/84 -- score: 0.8143676982988317[Parallel(n_jobs=-1)]: Using backend LokyBackend with 2 concurrent workers.\n",
            "[Parallel(n_jobs=-1)]: Done  37 tasks      | elapsed:  1.2min\n",
            "[Parallel(n_jobs=-1)]: Done  57 out of  57 | elapsed:  1.8min finished\n",
            "\n",
            "[2021-03-23 14:55:33] Features: 28/84 -- score: 0.813875794220127[Parallel(n_jobs=-1)]: Using backend LokyBackend with 2 concurrent workers.\n",
            "[Parallel(n_jobs=-1)]: Done  37 tasks      | elapsed:  1.4min\n",
            "[Parallel(n_jobs=-1)]: Done  56 out of  56 | elapsed:  2.0min finished\n",
            "\n",
            "[2021-03-23 14:57:34] Features: 29/84 -- score: 0.8138552982168477[Parallel(n_jobs=-1)]: Using backend LokyBackend with 2 concurrent workers.\n",
            "[Parallel(n_jobs=-1)]: Done  37 tasks      | elapsed:  1.5min\n",
            "[Parallel(n_jobs=-1)]: Done  55 out of  55 | elapsed:  2.1min finished\n",
            "\n",
            "[2021-03-23 14:59:43] Features: 30/84 -- score: 0.8121541299446609[Parallel(n_jobs=-1)]: Using backend LokyBackend with 2 concurrent workers.\n",
            "[Parallel(n_jobs=-1)]: Done  37 tasks      | elapsed:  1.5min\n",
            "[Parallel(n_jobs=-1)]: Done  54 out of  54 | elapsed:  2.2min finished\n",
            "\n",
            "[2021-03-23 15:01:55] Features: 31/84 -- score: 0.8122771059643368[Parallel(n_jobs=-1)]: Using backend LokyBackend with 2 concurrent workers.\n",
            "[Parallel(n_jobs=-1)]: Done  37 tasks      | elapsed:  1.4min\n",
            "[Parallel(n_jobs=-1)]: Done  53 out of  53 | elapsed:  2.0min finished\n",
            "\n",
            "[2021-03-23 15:03:53] Features: 32/84 -- score: 0.8126665300266447[Parallel(n_jobs=-1)]: Using backend LokyBackend with 2 concurrent workers.\n",
            "[Parallel(n_jobs=-1)]: Done  37 tasks      | elapsed:  1.6min\n",
            "[Parallel(n_jobs=-1)]: Done  52 out of  52 | elapsed:  2.2min finished\n",
            "\n",
            "[2021-03-23 15:06:04] Features: 33/84 -- score: 0.8118466898954704[Parallel(n_jobs=-1)]: Using backend LokyBackend with 2 concurrent workers.\n",
            "[Parallel(n_jobs=-1)]: Done  37 tasks      | elapsed:  1.6min\n",
            "[Parallel(n_jobs=-1)]: Done  51 out of  51 | elapsed:  2.1min finished\n",
            "\n",
            "[2021-03-23 15:08:13] Features: 34/84 -- score: 0.8114162738266038[Parallel(n_jobs=-1)]: Using backend LokyBackend with 2 concurrent workers.\n",
            "[Parallel(n_jobs=-1)]: Done  37 tasks      | elapsed:  1.7min\n",
            "[Parallel(n_jobs=-1)]: Done  50 out of  50 | elapsed:  2.2min finished\n",
            "\n",
            "[2021-03-23 15:10:26] Features: 35/84 -- score: 0.8116417298626768[Parallel(n_jobs=-1)]: Using backend LokyBackend with 2 concurrent workers.\n",
            "[Parallel(n_jobs=-1)]: Done  37 tasks      | elapsed:  1.6min\n",
            "[Parallel(n_jobs=-1)]: Done  49 out of  49 | elapsed:  2.1min finished\n",
            "\n",
            "[2021-03-23 15:12:32] Features: 36/84 -- score: 0.8425497028079525[Parallel(n_jobs=-1)]: Using backend LokyBackend with 2 concurrent workers.\n",
            "[Parallel(n_jobs=-1)]: Done  37 tasks      | elapsed:  2.0min\n",
            "[Parallel(n_jobs=-1)]: Done  48 out of  48 | elapsed:  2.6min finished\n",
            "\n",
            "[2021-03-23 15:15:06] Features: 37/84 -- score: 0.8435335109653618[Parallel(n_jobs=-1)]: Using backend LokyBackend with 2 concurrent workers.\n",
            "[Parallel(n_jobs=-1)]: Done  37 tasks      | elapsed:  2.0min\n",
            "[Parallel(n_jobs=-1)]: Done  47 out of  47 | elapsed:  2.5min finished\n",
            "\n",
            "[2021-03-23 15:17:36] Features: 38/84 -- score: 0.8452756712441074[Parallel(n_jobs=-1)]: Using backend LokyBackend with 2 concurrent workers.\n",
            "[Parallel(n_jobs=-1)]: Done  37 tasks      | elapsed:  2.1min\n",
            "[Parallel(n_jobs=-1)]: Done  46 out of  46 | elapsed:  2.5min finished\n",
            "\n",
            "[2021-03-23 15:20:07] Features: 39/84 -- score: 0.8471203115392498[Parallel(n_jobs=-1)]: Using backend LokyBackend with 2 concurrent workers.\n",
            "[Parallel(n_jobs=-1)]: Done  37 tasks      | elapsed:  1.8min\n",
            "[Parallel(n_jobs=-1)]: Done  45 out of  45 | elapsed:  2.2min finished\n",
            "\n",
            "[2021-03-23 15:22:18] Features: 40/84 -- score: 0.847407255585161[Parallel(n_jobs=-1)]: Using backend LokyBackend with 2 concurrent workers.\n",
            "[Parallel(n_jobs=-1)]: Done  37 tasks      | elapsed:  2.0min\n",
            "[Parallel(n_jobs=-1)]: Done  44 out of  44 | elapsed:  2.4min finished\n",
            "\n",
            "[2021-03-23 15:24:39] Features: 41/84 -- score: 0.8488829678212747[Parallel(n_jobs=-1)]: Using backend LokyBackend with 2 concurrent workers.\n",
            "[Parallel(n_jobs=-1)]: Done  37 tasks      | elapsed:  2.1min\n",
            "[Parallel(n_jobs=-1)]: Done  43 out of  43 | elapsed:  2.3min finished\n",
            "\n",
            "[2021-03-23 15:27:00] Features: 42/84 -- score: 0.8488829678212749[Parallel(n_jobs=-1)]: Using backend LokyBackend with 2 concurrent workers.\n",
            "[Parallel(n_jobs=-1)]: Done  37 tasks      | elapsed:  2.2min\n",
            "[Parallel(n_jobs=-1)]: Done  42 out of  42 | elapsed:  2.4min finished\n",
            "\n",
            "[2021-03-23 15:29:25] Features: 43/84 -- score: 0.8495388399262144[Parallel(n_jobs=-1)]: Using backend LokyBackend with 2 concurrent workers.\n",
            "[Parallel(n_jobs=-1)]: Done  37 tasks      | elapsed:  1.9min\n",
            "[Parallel(n_jobs=-1)]: Done  41 out of  41 | elapsed:  2.1min finished\n",
            "\n",
            "[2021-03-23 15:31:29] Features: 44/84 -- score: 0.8498667759786841[Parallel(n_jobs=-1)]: Using backend LokyBackend with 2 concurrent workers.\n",
            "[Parallel(n_jobs=-1)]: Done  37 tasks      | elapsed:  2.1min\n",
            "[Parallel(n_jobs=-1)]: Done  40 out of  40 | elapsed:  2.3min finished\n",
            "\n",
            "[2021-03-23 15:33:44] Features: 45/84 -- score: 0.8507276081164173[Parallel(n_jobs=-1)]: Using backend LokyBackend with 2 concurrent workers.\n",
            "[Parallel(n_jobs=-1)]: Done  39 out of  39 | elapsed:  2.2min finished\n",
            "\n",
            "[2021-03-23 15:35:59] Features: 46/84 -- score: 0.8509530641524904[Parallel(n_jobs=-1)]: Using backend LokyBackend with 2 concurrent workers.\n",
            "[Parallel(n_jobs=-1)]: Done  38 out of  38 | elapsed:  2.2min finished\n",
            "\n",
            "[2021-03-23 15:38:13] Features: 47/84 -- score: 0.8522033203525312[Parallel(n_jobs=-1)]: Using backend LokyBackend with 2 concurrent workers.\n",
            "[Parallel(n_jobs=-1)]: Done  37 out of  37 | elapsed:  2.0min finished\n",
            "\n",
            "[2021-03-23 15:40:11] Features: 48/84 -- score: 0.8522033203525312[Parallel(n_jobs=-1)]: Using backend LokyBackend with 2 concurrent workers.\n",
            "[Parallel(n_jobs=-1)]: Done  36 out of  36 | elapsed:  2.1min finished\n",
            "\n",
            "[2021-03-23 15:42:14] Features: 49/84 -- score: 0.8532076245132199[Parallel(n_jobs=-1)]: Using backend LokyBackend with 2 concurrent workers.\n",
            "[Parallel(n_jobs=-1)]: Done  35 out of  35 | elapsed:  2.0min finished\n",
            "\n",
            "[2021-03-23 15:44:15] Features: 50/84 -- score: 0.8534535765525723[Parallel(n_jobs=-1)]: Using backend LokyBackend with 2 concurrent workers.\n",
            "[Parallel(n_jobs=-1)]: Done  34 out of  34 | elapsed:  2.0min finished\n",
            "\n",
            "[2021-03-23 15:46:17] Features: 51/84 -- score: 0.8535970485755279[Parallel(n_jobs=-1)]: Using backend LokyBackend with 2 concurrent workers.\n",
            "[Parallel(n_jobs=-1)]: Done  33 out of  33 | elapsed:  1.8min finished\n",
            "\n",
            "[2021-03-23 15:48:04] Features: 52/84 -- score: 0.8537405205984833[Parallel(n_jobs=-1)]: Using backend LokyBackend with 2 concurrent workers.\n",
            "[Parallel(n_jobs=-1)]: Done  32 out of  32 | elapsed:  1.9min finished\n",
            "\n",
            "[2021-03-23 15:50:00] Features: 53/84 -- score: 0.8538839926214388[Parallel(n_jobs=-1)]: Using backend LokyBackend with 2 concurrent workers.\n",
            "[Parallel(n_jobs=-1)]: Done  31 out of  31 | elapsed:  1.9min finished\n",
            "\n",
            "[2021-03-23 15:51:55] Features: 54/84 -- score: 0.8542529206804673[Parallel(n_jobs=-1)]: Using backend LokyBackend with 2 concurrent workers.\n",
            "[Parallel(n_jobs=-1)]: Done  30 out of  30 | elapsed:  1.9min finished\n",
            "\n",
            "[2021-03-23 15:53:51] Features: 55/84 -- score: 0.8546013527362165[Parallel(n_jobs=-1)]: Using backend LokyBackend with 2 concurrent workers.\n",
            "[Parallel(n_jobs=-1)]: Done  29 out of  29 | elapsed:  1.7min finished\n",
            "\n",
            "[2021-03-23 15:55:30] Features: 56/84 -- score: 0.854232424677188[Parallel(n_jobs=-1)]: Using backend LokyBackend with 2 concurrent workers.\n",
            "[Parallel(n_jobs=-1)]: Done  28 out of  28 | elapsed:  1.8min finished\n",
            "\n",
            "[2021-03-23 15:57:17] Features: 57/84 -- score: 0.8544988727198197[Parallel(n_jobs=-1)]: Using backend LokyBackend with 2 concurrent workers.\n",
            "[Parallel(n_jobs=-1)]: Done  27 out of  27 | elapsed:  1.7min finished\n",
            "\n",
            "[2021-03-23 15:59:01] Features: 58/84 -- score: 0.8546013527362165[Parallel(n_jobs=-1)]: Using backend LokyBackend with 2 concurrent workers.\n",
            "[Parallel(n_jobs=-1)]: Done  26 out of  26 | elapsed:  1.7min finished\n",
            "\n",
            "[2021-03-23 16:00:45] Features: 59/84 -- score: 0.854232424677188[Parallel(n_jobs=-1)]: Using backend LokyBackend with 2 concurrent workers.\n",
            "[Parallel(n_jobs=-1)]: Done  25 out of  25 | elapsed:  1.5min finished\n",
            "\n",
            "[2021-03-23 16:02:15] Features: 60/84 -- score: 0.8544783767165403[Parallel(n_jobs=-1)]: Using backend LokyBackend with 2 concurrent workers.\n",
            "[Parallel(n_jobs=-1)]: Done  24 out of  24 | elapsed:  1.6min finished\n",
            "\n",
            "[2021-03-23 16:03:51] Features: 61/84 -- score: 0.854744824759172[Parallel(n_jobs=-1)]: Using backend LokyBackend with 2 concurrent workers.\n",
            "[Parallel(n_jobs=-1)]: Done  23 out of  23 | elapsed:  1.5min finished\n",
            "\n",
            "[2021-03-23 16:05:22] Features: 62/84 -- score: 0.8547858167657306[Parallel(n_jobs=-1)]: Using backend LokyBackend with 2 concurrent workers.\n",
            "[Parallel(n_jobs=-1)]: Done  22 out of  22 | elapsed:  1.5min finished\n",
            "\n",
            "[2021-03-23 16:06:51] Features: 63/84 -- score: 0.8550727608116417[Parallel(n_jobs=-1)]: Using backend LokyBackend with 2 concurrent workers.\n",
            "[Parallel(n_jobs=-1)]: Done  21 out of  21 | elapsed:  1.3min finished\n",
            "\n",
            "[2021-03-23 16:08:12] Features: 64/84 -- score: 0.8546218487394958[Parallel(n_jobs=-1)]: Using backend LokyBackend with 2 concurrent workers.\n",
            "[Parallel(n_jobs=-1)]: Done  20 out of  20 | elapsed:  1.3min finished\n",
            "\n",
            "[2021-03-23 16:09:32] Features: 65/84 -- score: 0.854068456650953[Parallel(n_jobs=-1)]: Using backend LokyBackend with 2 concurrent workers.\n",
            "[Parallel(n_jobs=-1)]: Done  19 out of  19 | elapsed:  1.3min finished\n",
            "\n",
            "[2021-03-23 16:10:50] Features: 66/84 -- score: 0.8547243287558925[Parallel(n_jobs=-1)]: Using backend LokyBackend with 2 concurrent workers.\n",
            "[Parallel(n_jobs=-1)]: Done  18 out of  18 | elapsed:  1.3min finished\n",
            "\n",
            "[2021-03-23 16:12:08] Features: 67/84 -- score: 0.8546013527362165[Parallel(n_jobs=-1)]: Using backend LokyBackend with 2 concurrent workers.\n",
            "[Parallel(n_jobs=-1)]: Done  17 out of  17 | elapsed:  1.1min finished\n",
            "\n",
            "[2021-03-23 16:13:14] Features: 68/84 -- score: 0.8546423447427752[Parallel(n_jobs=-1)]: Using backend LokyBackend with 2 concurrent workers.\n",
            "[Parallel(n_jobs=-1)]: Done  16 out of  16 | elapsed:  1.2min finished\n",
            "\n",
            "[2021-03-23 16:14:25] Features: 69/84 -- score: 0.8544988727198197[Parallel(n_jobs=-1)]: Using backend LokyBackend with 2 concurrent workers.\n",
            "[Parallel(n_jobs=-1)]: Done  15 out of  15 | elapsed:  1.1min finished\n",
            "\n",
            "[2021-03-23 16:15:29] Features: 70/84 -- score: 0.854519368723099[Parallel(n_jobs=-1)]: Using backend LokyBackend with 2 concurrent workers.\n",
            "[Parallel(n_jobs=-1)]: Done  14 out of  14 | elapsed:  1.0min finished\n",
            "\n",
            "[2021-03-23 16:16:31] Features: 71/84 -- score: 0.8546013527362163[Parallel(n_jobs=-1)]: Using backend LokyBackend with 2 concurrent workers.\n",
            "[Parallel(n_jobs=-1)]: Done  13 out of  13 | elapsed:   51.9s finished\n",
            "\n",
            "[2021-03-23 16:17:23] Features: 72/84 -- score: 0.8540069686411149[Parallel(n_jobs=-1)]: Using backend LokyBackend with 2 concurrent workers.\n",
            "[Parallel(n_jobs=-1)]: Done  12 out of  12 | elapsed:   51.8s finished\n",
            "\n",
            "[2021-03-23 16:18:15] Features: 73/84 -- score: 0.8531256405001025[Parallel(n_jobs=-1)]: Using backend LokyBackend with 2 concurrent workers.\n",
            "[Parallel(n_jobs=-1)]: Done  11 out of  11 | elapsed:   50.2s finished\n",
            "\n",
            "[2021-03-23 16:19:05] Features: 74/84 -- score: 0.8532691125230579[Parallel(n_jobs=-1)]: Using backend LokyBackend with 2 concurrent workers.\n",
            "[Parallel(n_jobs=-1)]: Done  10 out of  10 | elapsed:   46.8s finished\n",
            "\n",
            "[2021-03-23 16:19:52] Features: 75/84 -- score: 0.8531051444968231[Parallel(n_jobs=-1)]: Using backend LokyBackend with 2 concurrent workers.\n",
            "[Parallel(n_jobs=-1)]: Done   9 out of   9 | elapsed:   37.9s finished\n",
            "\n",
            "[2021-03-23 16:20:30] Features: 76/84 -- score: 0.8525107604017217[Parallel(n_jobs=-1)]: Using backend LokyBackend with 2 concurrent workers.\n",
            "[Parallel(n_jobs=-1)]: Done   8 out of   8 | elapsed:   37.4s finished\n",
            "\n",
            "[2021-03-23 16:21:08] Features: 77/84 -- score: 0.8522033203525311[Parallel(n_jobs=-1)]: Using backend LokyBackend with 2 concurrent workers.\n",
            "[Parallel(n_jobs=-1)]: Done   7 out of   7 | elapsed:   33.2s finished\n",
            "\n",
            "[2021-03-23 16:21:41] Features: 78/84 -- score: 0.8513834802213568[Parallel(n_jobs=-1)]: Using backend LokyBackend with 2 concurrent workers.\n",
            "[Parallel(n_jobs=-1)]: Done   6 out of   6 | elapsed:   28.9s finished\n",
            "\n",
            "[2021-03-23 16:22:10] Features: 79/84 -- score: 0.8517934002869441[Parallel(n_jobs=-1)]: Using backend LokyBackend with 2 concurrent workers.\n",
            "[Parallel(n_jobs=-1)]: Done   5 out of   5 | elapsed:   22.0s remaining:    0.0s\n",
            "[Parallel(n_jobs=-1)]: Done   5 out of   5 | elapsed:   22.0s finished\n",
            "\n",
            "[2021-03-23 16:22:32] Features: 80/84 -- score: 0.8517934002869441[Parallel(n_jobs=-1)]: Using backend LokyBackend with 2 concurrent workers.\n",
            "[Parallel(n_jobs=-1)]: Done   4 out of   4 | elapsed:   19.3s remaining:    0.0s\n",
            "[Parallel(n_jobs=-1)]: Done   4 out of   4 | elapsed:   19.3s finished\n",
            "\n",
            "[2021-03-23 16:22:51] Features: 81/84 -- score: 0.850768600122976[Parallel(n_jobs=-1)]: Using backend LokyBackend with 2 concurrent workers.\n",
            "[Parallel(n_jobs=-1)]: Done   3 out of   3 | elapsed:   15.4s finished\n",
            "\n",
            "[2021-03-23 16:23:07] Features: 82/84 -- score: 0.850092232014757[Parallel(n_jobs=-1)]: Using backend LokyBackend with 2 concurrent workers.\n",
            "[Parallel(n_jobs=-1)]: Done   2 out of   2 | elapsed:    9.9s finished\n",
            "\n",
            "[2021-03-23 16:23:17] Features: 83/84 -- score: 0.8430211108833777[Parallel(n_jobs=-1)]: Using backend LokyBackend with 2 concurrent workers.\n",
            "[Parallel(n_jobs=-1)]: Done   1 out of   1 | elapsed:    5.6s finished\n",
            "\n",
            "[2021-03-23 16:23:22] Features: 84/84 -- score: 0.8459520393523263"
          ],
          "name": "stderr"
        },
        {
          "output_type": "execute_result",
          "data": {
            "text/plain": [
              "Pipeline(memory=None,\n",
              "         steps=[('sequentialfeatureselector',\n",
              "                 SequentialFeatureSelector(clone_estimator=True, cv=5,\n",
              "                                           estimator=LogisticRegression(C=1.0,\n",
              "                                                                        class_weight=None,\n",
              "                                                                        dual=False,\n",
              "                                                                        fit_intercept=True,\n",
              "                                                                        intercept_scaling=1,\n",
              "                                                                        l1_ratio=None,\n",
              "                                                                        max_iter=100,\n",
              "                                                                        multi_class='auto',\n",
              "                                                                        n_jobs=None,\n",
              "                                                                        penalty='l2',\n",
              "                                                                        random_state=None,\n",
              "                                                                        solver='lbfgs',\n",
              "                                                                        tol=0.0001,\n",
              "                                                                        verbose=0,\n",
              "                                                                        warm_start=False),\n",
              "                                           floating=False, forward=True,\n",
              "                                           k_features=(1, 84), n_jobs=-1,\n",
              "                                           pre_dispatch='2*n_jobs',\n",
              "                                           scoring='accuracy', verbose=2))],\n",
              "         verbose=False)"
            ]
          },
          "metadata": {
            "tags": []
          },
          "execution_count": 270
        }
      ]
    },
    {
      "cell_type": "code",
      "metadata": {
        "colab": {
          "base_uri": "https://localhost:8080/"
        },
        "id": "u5_irsL07aEd",
        "outputId": "b21a844a-5133-4d12-fb1b-6edd7b2d79e7"
      },
      "source": [
        "print('best combination (ACC: %.3f): %s\\n' % (sfs1.k_score_, sfs1.k_feature_idx_))\n",
        "feature_selected = [X.columns[i] for i in sfs1.k_feature_idx_]\n",
        "print('best feature', feature_selected)\n",
        "\n",
        "list_feature_drop = [item for item in X.columns if item not in feature_selected]\n",
        "df.drop(list_feature_drop, axis=1, inplace=True)"
      ],
      "execution_count": null,
      "outputs": [
        {
          "output_type": "stream",
          "text": [
            "best combination (ACC: 0.855): (1, 2, 3, 7, 8, 10, 11, 12, 13, 14, 15, 18, 19, 20, 21, 22, 23, 24, 25, 26, 27, 28, 29, 30, 31, 32, 34, 35, 38, 39, 40, 44, 46, 47, 49, 50, 51, 52, 53, 54, 55, 57, 58, 59, 60, 61, 62, 63, 64, 65, 66, 67, 68, 69, 70, 74, 75, 76, 77, 78, 79, 81, 82)\n",
            "\n",
            "best feature ['educational-num', 'capital-gain', 'capital-loss', 'Local-gov', 'Never-worked', 'Self-emp-inc', 'Self-emp-not-inc', 'State-gov', 'Without-pay', 'Doctorate', 'HighGrad', 'MedGrad', 'NotMarried', 'Armed-Forces', 'Craft-repair', 'Exec-managerial', 'Farming-fishing', 'Handlers-cleaners', 'Machine-op-inspct', 'Other-service', 'Priv-house-serv', 'Prof-specialty', 'Protective-serv', 'Sales', 'Tech-support', 'Transport-moving', 'Other-relative', 'Own-child', 'Asian-Pac-Islander', 'Black', 'Other', Interval(20.6, 30.4, closed='right'), Interval(40.2, 50.0, closed='right'), Interval(50.0, 59.8, closed='right'), Interval(69.6, 79.4, closed='right'), Interval(79.4, 89.2, closed='right'), Interval(89.2, 99.0, closed='right'), Interval(20.65, 24.3, closed='right'), Interval(24.3, 27.95, closed='right'), Interval(27.95, 31.6, closed='right'), Interval(31.6, 35.25, closed='right'), Interval(38.9, 42.55, closed='right'), Interval(42.55, 46.2, closed='right'), Interval(46.2, 49.85, closed='right'), Interval(49.85, 53.5, closed='right'), Interval(53.5, 57.15, closed='right'), Interval(57.15, 60.8, closed='right'), Interval(60.8, 64.45, closed='right'), Interval(64.45, 68.1, closed='right'), Interval(68.1, 71.75, closed='right'), Interval(71.75, 75.4, closed='right'), Interval(75.4, 79.05, closed='right'), Interval(79.05, 82.7, closed='right'), Interval(82.7, 86.35, closed='right'), Interval(86.35, 90.0, closed='right'), Interval(3576.6, 4465.5, closed='right'), Interval(4465.5, 5354.4, closed='right'), Interval(5354.4, 6243.3, closed='right'), Interval(6243.3, 7132.2, closed='right'), Interval(7132.2, 8021.1, closed='right'), Interval(8021.1, 8910.0, closed='right'), Interval(19516.6, 29274.4, closed='right'), Interval(29274.4, 39032.2, closed='right')]\n"
          ],
          "name": "stdout"
        }
      ]
    },
    {
      "cell_type": "markdown",
      "metadata": {
        "id": "Q8lYqvd50R9Q"
      },
      "source": [
        "# Building a Logistic Regression model"
      ]
    },
    {
      "cell_type": "markdown",
      "metadata": {
        "id": "2YQTw5Knx9_q"
      },
      "source": [
        "## Train/Test Split"
      ]
    },
    {
      "cell_type": "code",
      "metadata": {
        "id": "K2J_L4G7EJBM"
      },
      "source": [
        "# X = df[feature_selected]\n",
        "X = df.drop('income', axis=1)\n",
        "y = df['income']\n",
        "X_train, X_test, y_train, y_test = train_test_split(X, y, stratify=y, test_size=0.3, random_state=101)"
      ],
      "execution_count": null,
      "outputs": []
    },
    {
      "cell_type": "markdown",
      "metadata": {
        "id": "NXAWOsTsEJBP"
      },
      "source": [
        "## Training and Predicting"
      ]
    },
    {
      "cell_type": "code",
      "metadata": {
        "colab": {
          "base_uri": "https://localhost:8080/"
        },
        "id": "CfRgs1P6EJBV",
        "outputId": "d75556d5-ac02-4e46-915a-88ee0e8b6e6f"
      },
      "source": [
        "model = LogisticRegression()\n",
        "model.fit(X_train, y_train)"
      ],
      "execution_count": null,
      "outputs": [
        {
          "output_type": "stream",
          "text": [
            "/usr/local/lib/python3.7/dist-packages/sklearn/linear_model/_logistic.py:940: ConvergenceWarning: lbfgs failed to converge (status=1):\n",
            "STOP: TOTAL NO. of ITERATIONS REACHED LIMIT.\n",
            "\n",
            "Increase the number of iterations (max_iter) or scale the data as shown in:\n",
            "    https://scikit-learn.org/stable/modules/preprocessing.html\n",
            "Please also refer to the documentation for alternative solver options:\n",
            "    https://scikit-learn.org/stable/modules/linear_model.html#logistic-regression\n",
            "  extra_warning_msg=_LOGISTIC_SOLVER_CONVERGENCE_MSG)\n"
          ],
          "name": "stderr"
        },
        {
          "output_type": "execute_result",
          "data": {
            "text/plain": [
              "LogisticRegression(C=1.0, class_weight=None, dual=False, fit_intercept=True,\n",
              "                   intercept_scaling=1, l1_ratio=None, max_iter=100,\n",
              "                   multi_class='auto', n_jobs=None, penalty='l2',\n",
              "                   random_state=None, solver='lbfgs', tol=0.0001, verbose=0,\n",
              "                   warm_start=False)"
            ]
          },
          "metadata": {
            "tags": []
          },
          "execution_count": 274
        }
      ]
    },
    {
      "cell_type": "code",
      "metadata": {
        "id": "PsW_i8ciEJBZ"
      },
      "source": [
        "y_pred = model.predict(X_test)"
      ],
      "execution_count": null,
      "outputs": []
    },
    {
      "cell_type": "markdown",
      "metadata": {
        "id": "veajglVyEJBd"
      },
      "source": [
        "## Evaluation"
      ]
    },
    {
      "cell_type": "markdown",
      "metadata": {
        "id": "U5gddBpEFyHL"
      },
      "source": [
        "Test Dataset"
      ]
    },
    {
      "cell_type": "code",
      "metadata": {
        "colab": {
          "base_uri": "https://localhost:8080/"
        },
        "id": "ZUEh6C4KeTH0",
        "outputId": "8c2464f4-78f6-41f8-907b-f328f5e94ea5"
      },
      "source": [
        "# test\n",
        "confusion_matrix(y_test, y_pred)\n",
        "print(classification_report(y_test,y_pred))"
      ],
      "execution_count": null,
      "outputs": [
        {
          "output_type": "stream",
          "text": [
            "              precision    recall  f1-score   support\n",
            "\n",
            "           0       0.89      0.93      0.91     11133\n",
            "           1       0.74      0.62      0.67      3504\n",
            "\n",
            "    accuracy                           0.86     14637\n",
            "   macro avg       0.81      0.77      0.79     14637\n",
            "weighted avg       0.85      0.86      0.85     14637\n",
            "\n"
          ],
          "name": "stdout"
        }
      ]
    },
    {
      "cell_type": "markdown",
      "metadata": {
        "id": "4GMF4ARiFzWA"
      },
      "source": [
        "Train Dataset"
      ]
    },
    {
      "cell_type": "code",
      "metadata": {
        "colab": {
          "base_uri": "https://localhost:8080/"
        },
        "id": "SrZ4GccQeT_9",
        "outputId": "8338769e-f915-47f5-d107-7f5c7331e6a0"
      },
      "source": [
        "# train\n",
        "y_pred_train = model.predict(X_train)\n",
        "confusion_matrix(y_train, y_pred_train)\n",
        "print(classification_report(y_train, y_pred_train))"
      ],
      "execution_count": null,
      "outputs": [
        {
          "output_type": "stream",
          "text": [
            "              precision    recall  f1-score   support\n",
            "\n",
            "           0       0.89      0.92      0.91     25976\n",
            "           1       0.72      0.63      0.67      8177\n",
            "\n",
            "    accuracy                           0.85     34153\n",
            "   macro avg       0.81      0.78      0.79     34153\n",
            "weighted avg       0.85      0.85      0.85     34153\n",
            "\n"
          ],
          "name": "stdout"
        }
      ]
    },
    {
      "cell_type": "markdown",
      "metadata": {
        "id": "MSQ0y_XGakg2"
      },
      "source": [
        "## Other Result"
      ]
    },
    {
      "cell_type": "markdown",
      "metadata": {
        "id": "JJW0mzCMeHPA"
      },
      "source": [
        "test dataset"
      ]
    },
    {
      "cell_type": "code",
      "metadata": {
        "colab": {
          "base_uri": "https://localhost:8080/"
        },
        "id": "TEFmVujoSWny",
        "outputId": "73822559-6ff4-4fd2-cc41-993d50e708ca"
      },
      "source": [
        "# test\n",
        "confusion_matrix(y_test, y_pred)\n",
        "print(classification_report(y_test,y_pred))"
      ],
      "execution_count": null,
      "outputs": [
        {
          "output_type": "stream",
          "text": [
            "              precision    recall  f1-score   support\n",
            "\n",
            "           0       0.88      0.94      0.91     11133\n",
            "           1       0.75      0.60      0.67      3504\n",
            "\n",
            "    accuracy                           0.86     14637\n",
            "   macro avg       0.82      0.77      0.79     14637\n",
            "weighted avg       0.85      0.86      0.85     14637\n",
            "\n"
          ],
          "name": "stdout"
        }
      ]
    },
    {
      "cell_type": "markdown",
      "metadata": {
        "id": "MKiTlPb3ZjRl"
      },
      "source": [
        "train dataset"
      ]
    },
    {
      "cell_type": "code",
      "metadata": {
        "colab": {
          "base_uri": "https://localhost:8080/"
        },
        "id": "fafrBzAGSYEP",
        "outputId": "893f3a86-163e-4e64-9c86-8cc15fa5ef95"
      },
      "source": [
        "# train\n",
        "y_pred_train = model.predict(X_train)\n",
        "confusion_matrix(y_train, y_pred_train)\n",
        "print(classification_report(y_train, y_pred_train))"
      ],
      "execution_count": null,
      "outputs": [
        {
          "output_type": "stream",
          "text": [
            "              precision    recall  f1-score   support\n",
            "\n",
            "           0       0.88      0.93      0.91     25976\n",
            "           1       0.74      0.61      0.67      8177\n",
            "\n",
            "    accuracy                           0.85     34153\n",
            "   macro avg       0.81      0.77      0.79     34153\n",
            "weighted avg       0.85      0.85      0.85     34153\n",
            "\n"
          ],
          "name": "stdout"
        }
      ]
    },
    {
      "cell_type": "markdown",
      "metadata": {
        "id": "IlzcQnagayf7"
      },
      "source": [
        "feature drop\n",
        "\n",
        "*   native-country\n",
        "\n"
      ]
    },
    {
      "cell_type": "markdown",
      "metadata": {
        "id": "Sdzpy947dyZm"
      },
      "source": [
        "feture select by SFS"
      ]
    },
    {
      "cell_type": "code",
      "metadata": {
        "colab": {
          "base_uri": "https://localhost:8080/"
        },
        "id": "r1WfM-ykyh7X",
        "outputId": "3e26b20f-e036-4e75-c9d1-a29b2cb7357b"
      },
      "source": [
        "feature_selected"
      ],
      "execution_count": null,
      "outputs": [
        {
          "output_type": "execute_result",
          "data": {
            "text/plain": [
              "['educational-num',\n",
              " 'capital-gain',\n",
              " 'capital-loss',\n",
              " 'Local-gov',\n",
              " 'Never-worked',\n",
              " 'Self-emp-inc',\n",
              " 'Self-emp-not-inc',\n",
              " 'State-gov',\n",
              " 'Without-pay',\n",
              " 'Doctorate',\n",
              " 'HighGrad',\n",
              " 'MedGrad',\n",
              " 'NotMarried',\n",
              " 'Armed-Forces',\n",
              " 'Craft-repair',\n",
              " 'Exec-managerial',\n",
              " 'Farming-fishing',\n",
              " 'Handlers-cleaners',\n",
              " 'Machine-op-inspct',\n",
              " 'Other-service',\n",
              " 'Priv-house-serv',\n",
              " 'Prof-specialty',\n",
              " 'Protective-serv',\n",
              " 'Sales',\n",
              " 'Tech-support',\n",
              " 'Transport-moving',\n",
              " 'Other-relative',\n",
              " 'Own-child',\n",
              " 'Asian-Pac-Islander',\n",
              " 'Black',\n",
              " 'Other',\n",
              " Interval(20.6, 30.4, closed='right'),\n",
              " Interval(40.2, 50.0, closed='right'),\n",
              " Interval(50.0, 59.8, closed='right'),\n",
              " Interval(69.6, 79.4, closed='right'),\n",
              " Interval(79.4, 89.2, closed='right'),\n",
              " Interval(89.2, 99.0, closed='right'),\n",
              " Interval(20.65, 24.3, closed='right'),\n",
              " Interval(24.3, 27.95, closed='right'),\n",
              " Interval(27.95, 31.6, closed='right'),\n",
              " Interval(31.6, 35.25, closed='right'),\n",
              " Interval(38.9, 42.55, closed='right'),\n",
              " Interval(42.55, 46.2, closed='right'),\n",
              " Interval(46.2, 49.85, closed='right'),\n",
              " Interval(49.85, 53.5, closed='right'),\n",
              " Interval(53.5, 57.15, closed='right'),\n",
              " Interval(57.15, 60.8, closed='right'),\n",
              " Interval(60.8, 64.45, closed='right'),\n",
              " Interval(64.45, 68.1, closed='right'),\n",
              " Interval(68.1, 71.75, closed='right'),\n",
              " Interval(71.75, 75.4, closed='right'),\n",
              " Interval(75.4, 79.05, closed='right'),\n",
              " Interval(79.05, 82.7, closed='right'),\n",
              " Interval(82.7, 86.35, closed='right'),\n",
              " Interval(86.35, 90.0, closed='right'),\n",
              " Interval(3576.6, 4465.5, closed='right'),\n",
              " Interval(4465.5, 5354.4, closed='right'),\n",
              " Interval(5354.4, 6243.3, closed='right'),\n",
              " Interval(6243.3, 7132.2, closed='right'),\n",
              " Interval(7132.2, 8021.1, closed='right'),\n",
              " Interval(8021.1, 8910.0, closed='right'),\n",
              " Interval(19516.6, 29274.4, closed='right'),\n",
              " Interval(29274.4, 39032.2, closed='right')]"
            ]
          },
          "metadata": {
            "tags": []
          },
          "execution_count": 279
        }
      ]
    }
  ]
}